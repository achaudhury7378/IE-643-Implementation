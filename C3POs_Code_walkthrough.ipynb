{
  "nbformat": 4,
  "nbformat_minor": 0,
  "metadata": {
    "colab": {
      "name": "C3POs_Code_walkthrough.ipynb",
      "provenance": [],
      "collapsed_sections": [],
      "include_colab_link": true
    },
    "kernelspec": {
      "name": "python3",
      "display_name": "Python 3"
    },
    "accelerator": "GPU",
    "widgets": {
      "application/vnd.jupyter.widget-state+json": {
        "5be4a9d782fa4d30a1364348184c322d": {
          "model_module": "@jupyter-widgets/controls",
          "model_name": "HBoxModel",
          "state": {
            "_view_name": "HBoxView",
            "_dom_classes": [],
            "_model_name": "HBoxModel",
            "_view_module": "@jupyter-widgets/controls",
            "_model_module_version": "1.5.0",
            "_view_count": null,
            "_view_module_version": "1.5.0",
            "box_style": "",
            "layout": "IPY_MODEL_b996f1ff477e4c8fb6f064921800e072",
            "_model_module": "@jupyter-widgets/controls",
            "children": [
              "IPY_MODEL_d94a2b4d17104df8a92b73ad533ac569",
              "IPY_MODEL_c056774451ef41238ac250128c072849"
            ]
          }
        },
        "b996f1ff477e4c8fb6f064921800e072": {
          "model_module": "@jupyter-widgets/base",
          "model_name": "LayoutModel",
          "state": {
            "_view_name": "LayoutView",
            "grid_template_rows": null,
            "right": null,
            "justify_content": null,
            "_view_module": "@jupyter-widgets/base",
            "overflow": null,
            "_model_module_version": "1.2.0",
            "_view_count": null,
            "flex_flow": null,
            "width": null,
            "min_width": null,
            "border": null,
            "align_items": null,
            "bottom": null,
            "_model_module": "@jupyter-widgets/base",
            "top": null,
            "grid_column": null,
            "overflow_y": null,
            "overflow_x": null,
            "grid_auto_flow": null,
            "grid_area": null,
            "grid_template_columns": null,
            "flex": null,
            "_model_name": "LayoutModel",
            "justify_items": null,
            "grid_row": null,
            "max_height": null,
            "align_content": null,
            "visibility": null,
            "align_self": null,
            "height": null,
            "min_height": null,
            "padding": null,
            "grid_auto_rows": null,
            "grid_gap": null,
            "max_width": null,
            "order": null,
            "_view_module_version": "1.2.0",
            "grid_template_areas": null,
            "object_position": null,
            "object_fit": null,
            "grid_auto_columns": null,
            "margin": null,
            "display": null,
            "left": null
          }
        },
        "d94a2b4d17104df8a92b73ad533ac569": {
          "model_module": "@jupyter-widgets/controls",
          "model_name": "FloatProgressModel",
          "state": {
            "_view_name": "ProgressView",
            "style": "IPY_MODEL_61f28953aa89465d9399d9b09c1a6a13",
            "_dom_classes": [],
            "description": "",
            "_model_name": "FloatProgressModel",
            "bar_style": "info",
            "max": 1,
            "_view_module": "@jupyter-widgets/controls",
            "_model_module_version": "1.5.0",
            "value": 1,
            "_view_count": null,
            "_view_module_version": "1.5.0",
            "orientation": "horizontal",
            "min": 0,
            "description_tooltip": null,
            "_model_module": "@jupyter-widgets/controls",
            "layout": "IPY_MODEL_d8115c3f1cba4d46984e7765ff8d99c2"
          }
        },
        "c056774451ef41238ac250128c072849": {
          "model_module": "@jupyter-widgets/controls",
          "model_name": "HTMLModel",
          "state": {
            "_view_name": "HTMLView",
            "style": "IPY_MODEL_fd24d5d7c91543c7bdd3bfaf5448c39e",
            "_dom_classes": [],
            "description": "",
            "_model_name": "HTMLModel",
            "placeholder": "​",
            "_view_module": "@jupyter-widgets/controls",
            "_model_module_version": "1.5.0",
            "value": " 9920512/? [00:20&lt;00:00, 30126261.80it/s]",
            "_view_count": null,
            "_view_module_version": "1.5.0",
            "description_tooltip": null,
            "_model_module": "@jupyter-widgets/controls",
            "layout": "IPY_MODEL_a4a93a8d69ad4507bec8eb45aa2e4a62"
          }
        },
        "61f28953aa89465d9399d9b09c1a6a13": {
          "model_module": "@jupyter-widgets/controls",
          "model_name": "ProgressStyleModel",
          "state": {
            "_view_name": "StyleView",
            "_model_name": "ProgressStyleModel",
            "description_width": "initial",
            "_view_module": "@jupyter-widgets/base",
            "_model_module_version": "1.5.0",
            "_view_count": null,
            "_view_module_version": "1.2.0",
            "bar_color": null,
            "_model_module": "@jupyter-widgets/controls"
          }
        },
        "d8115c3f1cba4d46984e7765ff8d99c2": {
          "model_module": "@jupyter-widgets/base",
          "model_name": "LayoutModel",
          "state": {
            "_view_name": "LayoutView",
            "grid_template_rows": null,
            "right": null,
            "justify_content": null,
            "_view_module": "@jupyter-widgets/base",
            "overflow": null,
            "_model_module_version": "1.2.0",
            "_view_count": null,
            "flex_flow": null,
            "width": null,
            "min_width": null,
            "border": null,
            "align_items": null,
            "bottom": null,
            "_model_module": "@jupyter-widgets/base",
            "top": null,
            "grid_column": null,
            "overflow_y": null,
            "overflow_x": null,
            "grid_auto_flow": null,
            "grid_area": null,
            "grid_template_columns": null,
            "flex": null,
            "_model_name": "LayoutModel",
            "justify_items": null,
            "grid_row": null,
            "max_height": null,
            "align_content": null,
            "visibility": null,
            "align_self": null,
            "height": null,
            "min_height": null,
            "padding": null,
            "grid_auto_rows": null,
            "grid_gap": null,
            "max_width": null,
            "order": null,
            "_view_module_version": "1.2.0",
            "grid_template_areas": null,
            "object_position": null,
            "object_fit": null,
            "grid_auto_columns": null,
            "margin": null,
            "display": null,
            "left": null
          }
        },
        "fd24d5d7c91543c7bdd3bfaf5448c39e": {
          "model_module": "@jupyter-widgets/controls",
          "model_name": "DescriptionStyleModel",
          "state": {
            "_view_name": "StyleView",
            "_model_name": "DescriptionStyleModel",
            "description_width": "",
            "_view_module": "@jupyter-widgets/base",
            "_model_module_version": "1.5.0",
            "_view_count": null,
            "_view_module_version": "1.2.0",
            "_model_module": "@jupyter-widgets/controls"
          }
        },
        "a4a93a8d69ad4507bec8eb45aa2e4a62": {
          "model_module": "@jupyter-widgets/base",
          "model_name": "LayoutModel",
          "state": {
            "_view_name": "LayoutView",
            "grid_template_rows": null,
            "right": null,
            "justify_content": null,
            "_view_module": "@jupyter-widgets/base",
            "overflow": null,
            "_model_module_version": "1.2.0",
            "_view_count": null,
            "flex_flow": null,
            "width": null,
            "min_width": null,
            "border": null,
            "align_items": null,
            "bottom": null,
            "_model_module": "@jupyter-widgets/base",
            "top": null,
            "grid_column": null,
            "overflow_y": null,
            "overflow_x": null,
            "grid_auto_flow": null,
            "grid_area": null,
            "grid_template_columns": null,
            "flex": null,
            "_model_name": "LayoutModel",
            "justify_items": null,
            "grid_row": null,
            "max_height": null,
            "align_content": null,
            "visibility": null,
            "align_self": null,
            "height": null,
            "min_height": null,
            "padding": null,
            "grid_auto_rows": null,
            "grid_gap": null,
            "max_width": null,
            "order": null,
            "_view_module_version": "1.2.0",
            "grid_template_areas": null,
            "object_position": null,
            "object_fit": null,
            "grid_auto_columns": null,
            "margin": null,
            "display": null,
            "left": null
          }
        },
        "40e34fb495a4486883cfe87c094a1d1f": {
          "model_module": "@jupyter-widgets/controls",
          "model_name": "HBoxModel",
          "state": {
            "_view_name": "HBoxView",
            "_dom_classes": [],
            "_model_name": "HBoxModel",
            "_view_module": "@jupyter-widgets/controls",
            "_model_module_version": "1.5.0",
            "_view_count": null,
            "_view_module_version": "1.5.0",
            "box_style": "",
            "layout": "IPY_MODEL_9d7c31a21ffc43238ddb1ba5ce3b2689",
            "_model_module": "@jupyter-widgets/controls",
            "children": [
              "IPY_MODEL_945cece61b6e4a2699081d31af1036cf",
              "IPY_MODEL_a8f0beab56654f21982cb6b0a72e2937"
            ]
          }
        },
        "9d7c31a21ffc43238ddb1ba5ce3b2689": {
          "model_module": "@jupyter-widgets/base",
          "model_name": "LayoutModel",
          "state": {
            "_view_name": "LayoutView",
            "grid_template_rows": null,
            "right": null,
            "justify_content": null,
            "_view_module": "@jupyter-widgets/base",
            "overflow": null,
            "_model_module_version": "1.2.0",
            "_view_count": null,
            "flex_flow": null,
            "width": null,
            "min_width": null,
            "border": null,
            "align_items": null,
            "bottom": null,
            "_model_module": "@jupyter-widgets/base",
            "top": null,
            "grid_column": null,
            "overflow_y": null,
            "overflow_x": null,
            "grid_auto_flow": null,
            "grid_area": null,
            "grid_template_columns": null,
            "flex": null,
            "_model_name": "LayoutModel",
            "justify_items": null,
            "grid_row": null,
            "max_height": null,
            "align_content": null,
            "visibility": null,
            "align_self": null,
            "height": null,
            "min_height": null,
            "padding": null,
            "grid_auto_rows": null,
            "grid_gap": null,
            "max_width": null,
            "order": null,
            "_view_module_version": "1.2.0",
            "grid_template_areas": null,
            "object_position": null,
            "object_fit": null,
            "grid_auto_columns": null,
            "margin": null,
            "display": null,
            "left": null
          }
        },
        "945cece61b6e4a2699081d31af1036cf": {
          "model_module": "@jupyter-widgets/controls",
          "model_name": "FloatProgressModel",
          "state": {
            "_view_name": "ProgressView",
            "style": "IPY_MODEL_b673d0fafff141c9badcd0f03071d3b9",
            "_dom_classes": [],
            "description": "",
            "_model_name": "FloatProgressModel",
            "bar_style": "info",
            "max": 1,
            "_view_module": "@jupyter-widgets/controls",
            "_model_module_version": "1.5.0",
            "value": 0,
            "_view_count": null,
            "_view_module_version": "1.5.0",
            "orientation": "horizontal",
            "min": 0,
            "description_tooltip": null,
            "_model_module": "@jupyter-widgets/controls",
            "layout": "IPY_MODEL_972f488f9192434eb70b05687f404e93"
          }
        },
        "a8f0beab56654f21982cb6b0a72e2937": {
          "model_module": "@jupyter-widgets/controls",
          "model_name": "HTMLModel",
          "state": {
            "_view_name": "HTMLView",
            "style": "IPY_MODEL_5e8cc3c1e2684b01b0e71ed6d13a6b90",
            "_dom_classes": [],
            "description": "",
            "_model_name": "HTMLModel",
            "placeholder": "​",
            "_view_module": "@jupyter-widgets/controls",
            "_model_module_version": "1.5.0",
            "value": " 0/? [00:00&lt;?, ?it/s]",
            "_view_count": null,
            "_view_module_version": "1.5.0",
            "description_tooltip": null,
            "_model_module": "@jupyter-widgets/controls",
            "layout": "IPY_MODEL_1a2fa6fa1d024bb0a4613be73c18dc1d"
          }
        },
        "b673d0fafff141c9badcd0f03071d3b9": {
          "model_module": "@jupyter-widgets/controls",
          "model_name": "ProgressStyleModel",
          "state": {
            "_view_name": "StyleView",
            "_model_name": "ProgressStyleModel",
            "description_width": "initial",
            "_view_module": "@jupyter-widgets/base",
            "_model_module_version": "1.5.0",
            "_view_count": null,
            "_view_module_version": "1.2.0",
            "bar_color": null,
            "_model_module": "@jupyter-widgets/controls"
          }
        },
        "972f488f9192434eb70b05687f404e93": {
          "model_module": "@jupyter-widgets/base",
          "model_name": "LayoutModel",
          "state": {
            "_view_name": "LayoutView",
            "grid_template_rows": null,
            "right": null,
            "justify_content": null,
            "_view_module": "@jupyter-widgets/base",
            "overflow": null,
            "_model_module_version": "1.2.0",
            "_view_count": null,
            "flex_flow": null,
            "width": null,
            "min_width": null,
            "border": null,
            "align_items": null,
            "bottom": null,
            "_model_module": "@jupyter-widgets/base",
            "top": null,
            "grid_column": null,
            "overflow_y": null,
            "overflow_x": null,
            "grid_auto_flow": null,
            "grid_area": null,
            "grid_template_columns": null,
            "flex": null,
            "_model_name": "LayoutModel",
            "justify_items": null,
            "grid_row": null,
            "max_height": null,
            "align_content": null,
            "visibility": null,
            "align_self": null,
            "height": null,
            "min_height": null,
            "padding": null,
            "grid_auto_rows": null,
            "grid_gap": null,
            "max_width": null,
            "order": null,
            "_view_module_version": "1.2.0",
            "grid_template_areas": null,
            "object_position": null,
            "object_fit": null,
            "grid_auto_columns": null,
            "margin": null,
            "display": null,
            "left": null
          }
        },
        "5e8cc3c1e2684b01b0e71ed6d13a6b90": {
          "model_module": "@jupyter-widgets/controls",
          "model_name": "DescriptionStyleModel",
          "state": {
            "_view_name": "StyleView",
            "_model_name": "DescriptionStyleModel",
            "description_width": "",
            "_view_module": "@jupyter-widgets/base",
            "_model_module_version": "1.5.0",
            "_view_count": null,
            "_view_module_version": "1.2.0",
            "_model_module": "@jupyter-widgets/controls"
          }
        },
        "1a2fa6fa1d024bb0a4613be73c18dc1d": {
          "model_module": "@jupyter-widgets/base",
          "model_name": "LayoutModel",
          "state": {
            "_view_name": "LayoutView",
            "grid_template_rows": null,
            "right": null,
            "justify_content": null,
            "_view_module": "@jupyter-widgets/base",
            "overflow": null,
            "_model_module_version": "1.2.0",
            "_view_count": null,
            "flex_flow": null,
            "width": null,
            "min_width": null,
            "border": null,
            "align_items": null,
            "bottom": null,
            "_model_module": "@jupyter-widgets/base",
            "top": null,
            "grid_column": null,
            "overflow_y": null,
            "overflow_x": null,
            "grid_auto_flow": null,
            "grid_area": null,
            "grid_template_columns": null,
            "flex": null,
            "_model_name": "LayoutModel",
            "justify_items": null,
            "grid_row": null,
            "max_height": null,
            "align_content": null,
            "visibility": null,
            "align_self": null,
            "height": null,
            "min_height": null,
            "padding": null,
            "grid_auto_rows": null,
            "grid_gap": null,
            "max_width": null,
            "order": null,
            "_view_module_version": "1.2.0",
            "grid_template_areas": null,
            "object_position": null,
            "object_fit": null,
            "grid_auto_columns": null,
            "margin": null,
            "display": null,
            "left": null
          }
        },
        "c254977a4b5b4f859d98eea9521790d1": {
          "model_module": "@jupyter-widgets/controls",
          "model_name": "HBoxModel",
          "state": {
            "_view_name": "HBoxView",
            "_dom_classes": [],
            "_model_name": "HBoxModel",
            "_view_module": "@jupyter-widgets/controls",
            "_model_module_version": "1.5.0",
            "_view_count": null,
            "_view_module_version": "1.5.0",
            "box_style": "",
            "layout": "IPY_MODEL_2beba17428d74cc3a4af5dcd0ed3fcd3",
            "_model_module": "@jupyter-widgets/controls",
            "children": [
              "IPY_MODEL_6b710741f8854d23b5d9fc84abf31bad",
              "IPY_MODEL_4d5aa467b94e4f08a0e11c6994e95f99"
            ]
          }
        },
        "2beba17428d74cc3a4af5dcd0ed3fcd3": {
          "model_module": "@jupyter-widgets/base",
          "model_name": "LayoutModel",
          "state": {
            "_view_name": "LayoutView",
            "grid_template_rows": null,
            "right": null,
            "justify_content": null,
            "_view_module": "@jupyter-widgets/base",
            "overflow": null,
            "_model_module_version": "1.2.0",
            "_view_count": null,
            "flex_flow": null,
            "width": null,
            "min_width": null,
            "border": null,
            "align_items": null,
            "bottom": null,
            "_model_module": "@jupyter-widgets/base",
            "top": null,
            "grid_column": null,
            "overflow_y": null,
            "overflow_x": null,
            "grid_auto_flow": null,
            "grid_area": null,
            "grid_template_columns": null,
            "flex": null,
            "_model_name": "LayoutModel",
            "justify_items": null,
            "grid_row": null,
            "max_height": null,
            "align_content": null,
            "visibility": null,
            "align_self": null,
            "height": null,
            "min_height": null,
            "padding": null,
            "grid_auto_rows": null,
            "grid_gap": null,
            "max_width": null,
            "order": null,
            "_view_module_version": "1.2.0",
            "grid_template_areas": null,
            "object_position": null,
            "object_fit": null,
            "grid_auto_columns": null,
            "margin": null,
            "display": null,
            "left": null
          }
        },
        "6b710741f8854d23b5d9fc84abf31bad": {
          "model_module": "@jupyter-widgets/controls",
          "model_name": "FloatProgressModel",
          "state": {
            "_view_name": "ProgressView",
            "style": "IPY_MODEL_419c95d46d3147ed8015067b6f6d803c",
            "_dom_classes": [],
            "description": "",
            "_model_name": "FloatProgressModel",
            "bar_style": "info",
            "max": 1,
            "_view_module": "@jupyter-widgets/controls",
            "_model_module_version": "1.5.0",
            "value": 1,
            "_view_count": null,
            "_view_module_version": "1.5.0",
            "orientation": "horizontal",
            "min": 0,
            "description_tooltip": null,
            "_model_module": "@jupyter-widgets/controls",
            "layout": "IPY_MODEL_90da43e0d71d449ea7c4a5f8d0a555ce"
          }
        },
        "4d5aa467b94e4f08a0e11c6994e95f99": {
          "model_module": "@jupyter-widgets/controls",
          "model_name": "HTMLModel",
          "state": {
            "_view_name": "HTMLView",
            "style": "IPY_MODEL_d5861dcca85642298c610d50388f6c21",
            "_dom_classes": [],
            "description": "",
            "_model_name": "HTMLModel",
            "placeholder": "​",
            "_view_module": "@jupyter-widgets/controls",
            "_model_module_version": "1.5.0",
            "value": " 1654784/? [00:19&lt;00:00, 141801.91it/s]",
            "_view_count": null,
            "_view_module_version": "1.5.0",
            "description_tooltip": null,
            "_model_module": "@jupyter-widgets/controls",
            "layout": "IPY_MODEL_25cf9750d2da43ee980b7d2cd4de8b3c"
          }
        },
        "419c95d46d3147ed8015067b6f6d803c": {
          "model_module": "@jupyter-widgets/controls",
          "model_name": "ProgressStyleModel",
          "state": {
            "_view_name": "StyleView",
            "_model_name": "ProgressStyleModel",
            "description_width": "initial",
            "_view_module": "@jupyter-widgets/base",
            "_model_module_version": "1.5.0",
            "_view_count": null,
            "_view_module_version": "1.2.0",
            "bar_color": null,
            "_model_module": "@jupyter-widgets/controls"
          }
        },
        "90da43e0d71d449ea7c4a5f8d0a555ce": {
          "model_module": "@jupyter-widgets/base",
          "model_name": "LayoutModel",
          "state": {
            "_view_name": "LayoutView",
            "grid_template_rows": null,
            "right": null,
            "justify_content": null,
            "_view_module": "@jupyter-widgets/base",
            "overflow": null,
            "_model_module_version": "1.2.0",
            "_view_count": null,
            "flex_flow": null,
            "width": null,
            "min_width": null,
            "border": null,
            "align_items": null,
            "bottom": null,
            "_model_module": "@jupyter-widgets/base",
            "top": null,
            "grid_column": null,
            "overflow_y": null,
            "overflow_x": null,
            "grid_auto_flow": null,
            "grid_area": null,
            "grid_template_columns": null,
            "flex": null,
            "_model_name": "LayoutModel",
            "justify_items": null,
            "grid_row": null,
            "max_height": null,
            "align_content": null,
            "visibility": null,
            "align_self": null,
            "height": null,
            "min_height": null,
            "padding": null,
            "grid_auto_rows": null,
            "grid_gap": null,
            "max_width": null,
            "order": null,
            "_view_module_version": "1.2.0",
            "grid_template_areas": null,
            "object_position": null,
            "object_fit": null,
            "grid_auto_columns": null,
            "margin": null,
            "display": null,
            "left": null
          }
        },
        "d5861dcca85642298c610d50388f6c21": {
          "model_module": "@jupyter-widgets/controls",
          "model_name": "DescriptionStyleModel",
          "state": {
            "_view_name": "StyleView",
            "_model_name": "DescriptionStyleModel",
            "description_width": "",
            "_view_module": "@jupyter-widgets/base",
            "_model_module_version": "1.5.0",
            "_view_count": null,
            "_view_module_version": "1.2.0",
            "_model_module": "@jupyter-widgets/controls"
          }
        },
        "25cf9750d2da43ee980b7d2cd4de8b3c": {
          "model_module": "@jupyter-widgets/base",
          "model_name": "LayoutModel",
          "state": {
            "_view_name": "LayoutView",
            "grid_template_rows": null,
            "right": null,
            "justify_content": null,
            "_view_module": "@jupyter-widgets/base",
            "overflow": null,
            "_model_module_version": "1.2.0",
            "_view_count": null,
            "flex_flow": null,
            "width": null,
            "min_width": null,
            "border": null,
            "align_items": null,
            "bottom": null,
            "_model_module": "@jupyter-widgets/base",
            "top": null,
            "grid_column": null,
            "overflow_y": null,
            "overflow_x": null,
            "grid_auto_flow": null,
            "grid_area": null,
            "grid_template_columns": null,
            "flex": null,
            "_model_name": "LayoutModel",
            "justify_items": null,
            "grid_row": null,
            "max_height": null,
            "align_content": null,
            "visibility": null,
            "align_self": null,
            "height": null,
            "min_height": null,
            "padding": null,
            "grid_auto_rows": null,
            "grid_gap": null,
            "max_width": null,
            "order": null,
            "_view_module_version": "1.2.0",
            "grid_template_areas": null,
            "object_position": null,
            "object_fit": null,
            "grid_auto_columns": null,
            "margin": null,
            "display": null,
            "left": null
          }
        },
        "b599ea2069664bf8b3bd714ed50ea476": {
          "model_module": "@jupyter-widgets/controls",
          "model_name": "HBoxModel",
          "state": {
            "_view_name": "HBoxView",
            "_dom_classes": [],
            "_model_name": "HBoxModel",
            "_view_module": "@jupyter-widgets/controls",
            "_model_module_version": "1.5.0",
            "_view_count": null,
            "_view_module_version": "1.5.0",
            "box_style": "",
            "layout": "IPY_MODEL_d33dd3ccc92d48da9222a1cba4ff7423",
            "_model_module": "@jupyter-widgets/controls",
            "children": [
              "IPY_MODEL_ae83d27e565d4632baec535edb18cdbf",
              "IPY_MODEL_016e9022ff044706be60fe3f29508b9f"
            ]
          }
        },
        "d33dd3ccc92d48da9222a1cba4ff7423": {
          "model_module": "@jupyter-widgets/base",
          "model_name": "LayoutModel",
          "state": {
            "_view_name": "LayoutView",
            "grid_template_rows": null,
            "right": null,
            "justify_content": null,
            "_view_module": "@jupyter-widgets/base",
            "overflow": null,
            "_model_module_version": "1.2.0",
            "_view_count": null,
            "flex_flow": null,
            "width": null,
            "min_width": null,
            "border": null,
            "align_items": null,
            "bottom": null,
            "_model_module": "@jupyter-widgets/base",
            "top": null,
            "grid_column": null,
            "overflow_y": null,
            "overflow_x": null,
            "grid_auto_flow": null,
            "grid_area": null,
            "grid_template_columns": null,
            "flex": null,
            "_model_name": "LayoutModel",
            "justify_items": null,
            "grid_row": null,
            "max_height": null,
            "align_content": null,
            "visibility": null,
            "align_self": null,
            "height": null,
            "min_height": null,
            "padding": null,
            "grid_auto_rows": null,
            "grid_gap": null,
            "max_width": null,
            "order": null,
            "_view_module_version": "1.2.0",
            "grid_template_areas": null,
            "object_position": null,
            "object_fit": null,
            "grid_auto_columns": null,
            "margin": null,
            "display": null,
            "left": null
          }
        },
        "ae83d27e565d4632baec535edb18cdbf": {
          "model_module": "@jupyter-widgets/controls",
          "model_name": "FloatProgressModel",
          "state": {
            "_view_name": "ProgressView",
            "style": "IPY_MODEL_cccb2fa8b00146f3904d5fbb7394934a",
            "_dom_classes": [],
            "description": "",
            "_model_name": "FloatProgressModel",
            "bar_style": "info",
            "max": 1,
            "_view_module": "@jupyter-widgets/controls",
            "_model_module_version": "1.5.0",
            "value": 0,
            "_view_count": null,
            "_view_module_version": "1.5.0",
            "orientation": "horizontal",
            "min": 0,
            "description_tooltip": null,
            "_model_module": "@jupyter-widgets/controls",
            "layout": "IPY_MODEL_1a36094bbad34ff18835c05b406fd9bf"
          }
        },
        "016e9022ff044706be60fe3f29508b9f": {
          "model_module": "@jupyter-widgets/controls",
          "model_name": "HTMLModel",
          "state": {
            "_view_name": "HTMLView",
            "style": "IPY_MODEL_0d611da82f5b4217ad490ea1492a6989",
            "_dom_classes": [],
            "description": "",
            "_model_name": "HTMLModel",
            "placeholder": "​",
            "_view_module": "@jupyter-widgets/controls",
            "_model_module_version": "1.5.0",
            "value": " 0/? [00:00&lt;?, ?it/s]",
            "_view_count": null,
            "_view_module_version": "1.5.0",
            "description_tooltip": null,
            "_model_module": "@jupyter-widgets/controls",
            "layout": "IPY_MODEL_5fd1703310ff450389d1b83a18fdb4b9"
          }
        },
        "cccb2fa8b00146f3904d5fbb7394934a": {
          "model_module": "@jupyter-widgets/controls",
          "model_name": "ProgressStyleModel",
          "state": {
            "_view_name": "StyleView",
            "_model_name": "ProgressStyleModel",
            "description_width": "initial",
            "_view_module": "@jupyter-widgets/base",
            "_model_module_version": "1.5.0",
            "_view_count": null,
            "_view_module_version": "1.2.0",
            "bar_color": null,
            "_model_module": "@jupyter-widgets/controls"
          }
        },
        "1a36094bbad34ff18835c05b406fd9bf": {
          "model_module": "@jupyter-widgets/base",
          "model_name": "LayoutModel",
          "state": {
            "_view_name": "LayoutView",
            "grid_template_rows": null,
            "right": null,
            "justify_content": null,
            "_view_module": "@jupyter-widgets/base",
            "overflow": null,
            "_model_module_version": "1.2.0",
            "_view_count": null,
            "flex_flow": null,
            "width": null,
            "min_width": null,
            "border": null,
            "align_items": null,
            "bottom": null,
            "_model_module": "@jupyter-widgets/base",
            "top": null,
            "grid_column": null,
            "overflow_y": null,
            "overflow_x": null,
            "grid_auto_flow": null,
            "grid_area": null,
            "grid_template_columns": null,
            "flex": null,
            "_model_name": "LayoutModel",
            "justify_items": null,
            "grid_row": null,
            "max_height": null,
            "align_content": null,
            "visibility": null,
            "align_self": null,
            "height": null,
            "min_height": null,
            "padding": null,
            "grid_auto_rows": null,
            "grid_gap": null,
            "max_width": null,
            "order": null,
            "_view_module_version": "1.2.0",
            "grid_template_areas": null,
            "object_position": null,
            "object_fit": null,
            "grid_auto_columns": null,
            "margin": null,
            "display": null,
            "left": null
          }
        },
        "0d611da82f5b4217ad490ea1492a6989": {
          "model_module": "@jupyter-widgets/controls",
          "model_name": "DescriptionStyleModel",
          "state": {
            "_view_name": "StyleView",
            "_model_name": "DescriptionStyleModel",
            "description_width": "",
            "_view_module": "@jupyter-widgets/base",
            "_model_module_version": "1.5.0",
            "_view_count": null,
            "_view_module_version": "1.2.0",
            "_model_module": "@jupyter-widgets/controls"
          }
        },
        "5fd1703310ff450389d1b83a18fdb4b9": {
          "model_module": "@jupyter-widgets/base",
          "model_name": "LayoutModel",
          "state": {
            "_view_name": "LayoutView",
            "grid_template_rows": null,
            "right": null,
            "justify_content": null,
            "_view_module": "@jupyter-widgets/base",
            "overflow": null,
            "_model_module_version": "1.2.0",
            "_view_count": null,
            "flex_flow": null,
            "width": null,
            "min_width": null,
            "border": null,
            "align_items": null,
            "bottom": null,
            "_model_module": "@jupyter-widgets/base",
            "top": null,
            "grid_column": null,
            "overflow_y": null,
            "overflow_x": null,
            "grid_auto_flow": null,
            "grid_area": null,
            "grid_template_columns": null,
            "flex": null,
            "_model_name": "LayoutModel",
            "justify_items": null,
            "grid_row": null,
            "max_height": null,
            "align_content": null,
            "visibility": null,
            "align_self": null,
            "height": null,
            "min_height": null,
            "padding": null,
            "grid_auto_rows": null,
            "grid_gap": null,
            "max_width": null,
            "order": null,
            "_view_module_version": "1.2.0",
            "grid_template_areas": null,
            "object_position": null,
            "object_fit": null,
            "grid_auto_columns": null,
            "margin": null,
            "display": null,
            "left": null
          }
        }
      }
    }
  },
  "cells": [
    {
      "cell_type": "markdown",
      "metadata": {
        "id": "view-in-github",
        "colab_type": "text"
      },
      "source": [
        "<a href=\"https://colab.research.google.com/github/achaudhury7378/IE-643-Implementation/blob/main/C3POs_Code_walkthrough.ipynb\" target=\"_parent\"><img src=\"https://colab.research.google.com/assets/colab-badge.svg\" alt=\"Open In Colab\"/></a>"
      ]
    },
    {
      "cell_type": "markdown",
      "metadata": {
        "id": "otDoNfG8DZG_"
      },
      "source": [
        "# Importing The Libraries"
      ]
    },
    {
      "cell_type": "code",
      "metadata": {
        "id": "Ylt9UBYhlb_f"
      },
      "source": [
        "import argparse\n",
        "import copy\n",
        "import os\n",
        "import sys\n",
        "import numpy as np\n",
        "from tqdm import tqdm\n",
        "import torch\n",
        "import torch.nn as nn\n",
        "import torch.nn.functional as F\n",
        "import torchvision\n",
        "import torchvision.transforms as transforms\n",
        "import torchvision.datasets as datasets\n",
        "import matplotlib.pyplot as plt\n",
        "import os\n",
        "from torch.utils.tensorboard import SummaryWriter\n",
        "import torchvision.utils as vutils\n",
        "import seaborn as sns\n",
        "import torch.nn.init as init\n",
        "import pickle\n"
      ],
      "execution_count": null,
      "outputs": []
    },
    {
      "cell_type": "markdown",
      "metadata": {
        "id": "Rsip4Ts1WuvI"
      },
      "source": [
        "# Utility functions to be used"
      ]
    },
    {
      "cell_type": "code",
      "metadata": {
        "id": "ALkl7L0-n24F"
      },
      "source": [
        "#####################################################################################################\n",
        "## Print table of zeros and non-zeros count of a model (Useful to check params alive after pruning)\n",
        "#####################################################################################################\n",
        "def print_nonzeros(model):\n",
        "    nonzero = total = 0\n",
        "    for name, p in model.named_parameters():\n",
        "        tensor = p.data.cpu().numpy()\n",
        "        nz_count = np.count_nonzero(tensor)\n",
        "        total_params = np.prod(tensor.shape)\n",
        "        nonzero += nz_count\n",
        "        total += total_params\n",
        "        print(f'{name:20} | nonzeros = {nz_count:7} / {total_params:7} ({100 * nz_count / total_params:6.2f}%) | total_pruned = {total_params - nz_count :7} | shape = {tensor.shape}')\n",
        "    print(f'alive: {nonzero}, pruned : {total - nonzero}, total: {total}, Compression rate : {total/nonzero:10.2f}x  ({100 * (total-nonzero) / total:6.2f}% pruned)')\n",
        "    return (round((nonzero/total)*100,1))\n",
        "\n",
        "\n",
        "##############################################################\n",
        "## Function to reset a model to its original initializations\n",
        "##############################################################\n",
        "def original_initialization(mask_temp, initial_state_dict):\n",
        "    global model\n",
        "    step = 0\n",
        "    for name, param in model.named_parameters(): \n",
        "        if \"weight\" in name: \n",
        "            weight_dev = param.device\n",
        "            param.data = torch.from_numpy(mask_temp[step] * initial_state_dict[name].cpu().numpy()).to(weight_dev)\n",
        "            step = step + 1\n",
        "        if \"bias\" in name:\n",
        "            param.data = initial_state_dict[name]\n",
        "    step = 0\n",
        "\n",
        "        \n",
        "\n",
        "#####################################################################\n",
        "## Checks of the directory exist and if not, creates a new directory\n",
        "#####################################################################\n",
        "def checkdir(directory):\n",
        "            if not os.path.exists(directory):\n",
        "                os.makedirs(directory)\n",
        "\n",
        "#FIXME \n",
        "def plot_train_test_stats(stats,\n",
        "                          epoch_num,\n",
        "                          key1='train',\n",
        "                          key2='test',\n",
        "                          key1_label=None,\n",
        "                          key2_label=None,\n",
        "                          xlabel=None,\n",
        "                          ylabel=None,\n",
        "                          title=None,\n",
        "                          yscale=None,\n",
        "                          ylim_bottom=None,\n",
        "                          ylim_top=None,\n",
        "                          savefig=None,\n",
        "                          sns_style='darkgrid'\n",
        "                          ):\n",
        "\n",
        "    assert len(stats[key1]) == epoch_num, \"len(stats['{}'])({}) != epoch_num({})\".format(key1, len(stats[key1]), epoch_num)\n",
        "    assert len(stats[key2]) == epoch_num, \"len(stats['{}'])({}) != epoch_num({})\".format(key2, len(stats[key2]), epoch_num)\n",
        "\n",
        "    plt.clf()\n",
        "    sns.set_style(sns_style)\n",
        "    x_ticks = np.arange(epoch_num)\n",
        "\n",
        "    plt.plot(x_ticks, stats[key1], label=key1_label)\n",
        "    plt.plot(x_ticks, stats[key2], label=key2_label)\n",
        "\n",
        "    if xlabel is not None:\n",
        "        plt.xlabel(xlabel)\n",
        "    if ylabel is not None:\n",
        "        plt.ylabel(ylabel)\n",
        "\n",
        "    if title is not None:\n",
        "        plt.title(title)\n",
        "\n",
        "    if yscale is not None:\n",
        "        plt.yscale(yscale)\n",
        "\n",
        "    if ylim_bottom is not None:\n",
        "        plt.ylim(bottom=ylim_bottom)\n",
        "    if ylim_top is not None:\n",
        "        plt.ylim(top=ylim_top)\n",
        "\n",
        "    plt.legend(bbox_to_anchor=(1.04,0.5), loc=\"center left\", borderaxespad=0, fancybox=True)\n",
        "\n",
        "    if savefig is not None:\n",
        "        plt.savefig(savefig, bbox_inches='tight')\n",
        "    else:\n",
        "        plt.show()"
      ],
      "execution_count": null,
      "outputs": []
    },
    {
      "cell_type": "markdown",
      "metadata": {
        "id": "Iq3owQ4n_xaa"
      },
      "source": [
        "# Defining FC1 architecture with 10 neurons in last layer\r\n",
        "\r\n"
      ]
    },
    {
      "cell_type": "code",
      "metadata": {
        "id": "M1M2M6GJ_rIF"
      },
      "source": [
        "class fc1(nn.Module):\n",
        "\n",
        "    def __init__(self, num_classes = 10):\n",
        "        super(fc1, self).__init__()\n",
        "        self.classifier = nn.Sequential(\n",
        "            nn.Linear(28*28, 300),\n",
        "            nn.ReLU(inplace=True),\n",
        "            nn.Linear(300, 100),\n",
        "            nn.ReLU(inplace=True),\n",
        "            nn.Linear(100, num_classes),\n",
        "        )\n",
        "\n",
        "    def forward(self, x):\n",
        "        x = torch.flatten(x, 1)\n",
        "        x = self.classifier(x)\n",
        "        return x"
      ],
      "execution_count": null,
      "outputs": []
    },
    {
      "cell_type": "markdown",
      "metadata": {
        "id": "-RWoG7B_Z3Ui"
      },
      "source": [
        "# Defining the Training and Testing Modules"
      ]
    },
    {
      "cell_type": "code",
      "metadata": {
        "id": "jBP1efHtZ21j"
      },
      "source": [
        "#######################################   \n",
        "# Function for Training\n",
        "#######################################\n",
        "def train(model, train_loader, optimizer, criterion):\n",
        "    EPS = 1e-6\n",
        "    device = torch.device(\"cuda\" if torch.cuda.is_available() else \"cpu\")\n",
        "    model.train()\n",
        "    for batch_idx, (imgs, targets) in enumerate(train_loader):\n",
        "        optimizer.zero_grad()         ## Clear out the gradients from the last step (otherwise we’d just accumulate the gradients from all loss.backward() calls)\n",
        "        imgs, targets = imgs.to(device), targets.to(device)\n",
        "        output = model(imgs)\n",
        "        train_loss = criterion(output, targets)\n",
        "        train_loss.backward()         ## computes the derivative of the loss w.r.t. the parameters using backpropagation.\n",
        "\n",
        "    ## Freezing Pruned weights by making their gradients Zero\n",
        "        for name, p in model.named_parameters():\n",
        "            if 'weight' in name:\n",
        "                tensor = p.data.cpu().numpy()\n",
        "                grad_tensor = p.grad.data.cpu().numpy()\n",
        "                grad_tensor = np.where(tensor < EPS, 0, grad_tensor)\n",
        "                p.grad.data = torch.from_numpy(grad_tensor).to(device)\n",
        "        optimizer.step()              ##  causes the optimizer to take a step based on the gradients of the parameters\n",
        "    return train_loss.item()\n",
        "\n",
        "#######################################\n",
        "# Function for Testing\n",
        "#######################################\n",
        "def test(model, test_loader, criterion):\n",
        "    device = torch.device(\"cuda\" if torch.cuda.is_available() else \"cpu\")\n",
        "    model.eval()\n",
        "    test_loss = 0\n",
        "    correct = 0\n",
        "    with torch.no_grad():\n",
        "        for data, target in test_loader:\n",
        "            data, target = data.to(device), target.to(device)\n",
        "            output = model(data)\n",
        "            test_loss += F.nll_loss(output, target, reduction='sum').item()   ## sum up batch loss\n",
        "            pred = output.data.max(1, keepdim=True)[1]                        ## get the index of the max log-probability\n",
        "            correct += pred.eq(target.data.view_as(pred)).sum().item()\n",
        "        test_loss /= len(test_loader.dataset)\n",
        "        accuracy = 100. * correct / len(test_loader.dataset)\n",
        "    return accuracy"
      ],
      "execution_count": null,
      "outputs": []
    },
    {
      "cell_type": "markdown",
      "metadata": {
        "id": "UW1UPSoHaPHx"
      },
      "source": [
        "# Defining the Prune_by_percentile module"
      ]
    },
    {
      "cell_type": "code",
      "metadata": {
        "id": "bfH3AQ-BaONL"
      },
      "source": [
        "#######################################\n",
        "# Prune by Percentile module\n",
        "#######################################\n",
        "def prune_by_percentile(percent, resample=False, reinit=False,**kwargs):\n",
        "        global step\n",
        "        global mask\n",
        "        global model\n",
        "\n",
        "        step = 0\n",
        "        \n",
        "        for name, param in model.named_parameters():\n",
        "\n",
        "        ## Note: We do not prune bias term\n",
        "            if 'weight' in name:\n",
        "                tensor = param.data.cpu().numpy()\n",
        "                alive = tensor[np.nonzero(tensor)]         ## flattened array of nonzero values\n",
        "                percentile_value = np.percentile(abs(alive), percent)   ## Calculating percentile value\n",
        "\n",
        "            ## Convert Tensors to numpy and calculate\n",
        "                weight_dev = param.device\n",
        "                new_mask = np.where(abs(tensor) < percentile_value, 0, mask[step])\n",
        "                \n",
        "            ## Apply new weight and mask\n",
        "                param.data = torch.from_numpy(tensor * new_mask).to(weight_dev)\n",
        "                mask[step] = new_mask\n",
        "                step += 1\n",
        "        step = 0"
      ],
      "execution_count": null,
      "outputs": []
    },
    {
      "cell_type": "markdown",
      "metadata": {
        "id": "B8lI3FsZakox"
      },
      "source": [
        "# Defining the function for Weight Initialization"
      ]
    },
    {
      "cell_type": "code",
      "metadata": {
        "id": "OOWRk4Vlaebr"
      },
      "source": [
        "#######################################\n",
        "# Function for Initialization\n",
        "#######################################\n",
        "def weight_init(m):\n",
        "    '''\n",
        "    Usage:\n",
        "        model = Model()\n",
        "        model.apply(weight_init)\n",
        "    '''\n",
        "    if isinstance(m, nn.Conv1d):\n",
        "        init.normal_(m.weight.data)\n",
        "        if m.bias is not None:\n",
        "            init.normal_(m.bias.data)\n",
        "    elif isinstance(m, nn.Conv2d):\n",
        "        init.xavier_normal_(m.weight.data)\n",
        "        if m.bias is not None:\n",
        "            init.normal_(m.bias.data)\n",
        "    elif isinstance(m, nn.Conv3d):\n",
        "        init.xavier_normal_(m.weight.data)\n",
        "        if m.bias is not None:\n",
        "            init.normal_(m.bias.data)\n",
        "    elif isinstance(m, nn.ConvTranspose1d):\n",
        "        init.normal_(m.weight.data)\n",
        "        if m.bias is not None:\n",
        "            init.normal_(m.bias.data)\n",
        "    elif isinstance(m, nn.ConvTranspose2d):\n",
        "        init.xavier_normal_(m.weight.data)\n",
        "        if m.bias is not None:\n",
        "            init.normal_(m.bias.data)\n",
        "    elif isinstance(m, nn.ConvTranspose3d):\n",
        "        init.xavier_normal_(m.weight.data)\n",
        "        if m.bias is not None:\n",
        "            init.normal_(m.bias.data)\n",
        "    elif isinstance(m, nn.BatchNorm1d):\n",
        "        init.normal_(m.weight.data, mean=1, std=0.02)\n",
        "        init.constant_(m.bias.data, 0)\n",
        "    elif isinstance(m, nn.BatchNorm2d):\n",
        "        init.normal_(m.weight.data, mean=1, std=0.02)\n",
        "        init.constant_(m.bias.data, 0)\n",
        "    elif isinstance(m, nn.BatchNorm3d):\n",
        "        init.normal_(m.weight.data, mean=1, std=0.02)\n",
        "        init.constant_(m.bias.data, 0)\n",
        "    elif isinstance(m, nn.Linear):\n",
        "        init.xavier_normal_(m.weight.data)\n",
        "        init.normal_(m.bias.data)\n",
        "\n"
      ],
      "execution_count": null,
      "outputs": []
    },
    {
      "cell_type": "markdown",
      "metadata": {
        "id": "j4vI4xVa_sLi"
      },
      "source": [
        "# Main procedure: "
      ]
    },
    {
      "cell_type": "code",
      "metadata": {
        "colab": {
          "base_uri": "https://localhost:8080/",
          "height": 1000,
          "referenced_widgets": [
            "5be4a9d782fa4d30a1364348184c322d",
            "b996f1ff477e4c8fb6f064921800e072",
            "d94a2b4d17104df8a92b73ad533ac569",
            "c056774451ef41238ac250128c072849",
            "61f28953aa89465d9399d9b09c1a6a13",
            "d8115c3f1cba4d46984e7765ff8d99c2",
            "fd24d5d7c91543c7bdd3bfaf5448c39e",
            "a4a93a8d69ad4507bec8eb45aa2e4a62",
            "40e34fb495a4486883cfe87c094a1d1f",
            "9d7c31a21ffc43238ddb1ba5ce3b2689",
            "945cece61b6e4a2699081d31af1036cf",
            "a8f0beab56654f21982cb6b0a72e2937",
            "b673d0fafff141c9badcd0f03071d3b9",
            "972f488f9192434eb70b05687f404e93",
            "5e8cc3c1e2684b01b0e71ed6d13a6b90",
            "1a2fa6fa1d024bb0a4613be73c18dc1d",
            "c254977a4b5b4f859d98eea9521790d1",
            "2beba17428d74cc3a4af5dcd0ed3fcd3",
            "6b710741f8854d23b5d9fc84abf31bad",
            "4d5aa467b94e4f08a0e11c6994e95f99",
            "419c95d46d3147ed8015067b6f6d803c",
            "90da43e0d71d449ea7c4a5f8d0a555ce",
            "d5861dcca85642298c610d50388f6c21",
            "25cf9750d2da43ee980b7d2cd4de8b3c",
            "b599ea2069664bf8b3bd714ed50ea476",
            "d33dd3ccc92d48da9222a1cba4ff7423",
            "ae83d27e565d4632baec535edb18cdbf",
            "016e9022ff044706be60fe3f29508b9f",
            "cccb2fa8b00146f3904d5fbb7394934a",
            "1a36094bbad34ff18835c05b406fd9bf",
            "0d611da82f5b4217ad490ea1492a6989",
            "5fd1703310ff450389d1b83a18fdb4b9"
          ]
        },
        "id": "c55FXSWu6ghs",
        "outputId": "07588338-e1bd-4ef6-b7b9-9e854751eddd"
      },
      "source": [
        "\n",
        "## Main\n",
        "writer = SummaryWriter()\n",
        "\n",
        "def main(args, ITE=0):\n",
        "    \n",
        "    device = torch.device(\"cuda\" if torch.cuda.is_available() else \"cpu\")\n",
        "    reinit = True if args.prune_type==\"reinit\" else False\n",
        "    \n",
        "    #################\n",
        "    ## Data Loader\n",
        "    #################\n",
        "    transform=transforms.Compose([transforms.ToTensor(),transforms.Normalize((0.1307,), (0.3081,))])\n",
        "    \n",
        "    ##########################################\n",
        "    ## Loading the MNIST dataset\n",
        "    ##########################################\n",
        "    if args.dataset == \"mnist\":\n",
        "        traindataset = datasets.MNIST('../data', train = True, download = True, transform = transform)\n",
        "        testdataset = datasets.MNIST('../data', train=False, transform = transform)\n",
        "\n",
        "    train_loader = torch.utils.data.DataLoader(traindataset, batch_size = args.batch_size, shuffle = True, num_workers = 0, drop_last = False)\n",
        "    test_loader = torch.utils.data.DataLoader(testdataset, batch_size = args.batch_size, shuffle = False, num_workers = 0, drop_last = True)\n",
        "    \n",
        "    #########################################\n",
        "    # Importing Network Architecture\n",
        "    #########################################\n",
        "    global model\n",
        "    if args.arch_type == \"fc1\":\n",
        "        model = fc1().to(device)\n",
        "    elif args.arch_type == \"lenet5\":\n",
        "        model = LeNet5().to(device)\n",
        "\n",
        "    ####################################\n",
        "    # Weight Initialization\n",
        "    ####################################\n",
        "    model.apply(weight_init)\n",
        "\n",
        "    ###########################################\n",
        "    ## Copying and Saving Initial State\n",
        "    ###########################################\n",
        "    initial_state_dict = copy.deepcopy(model.state_dict())\n",
        "    checkdir(f\"{os.getcwd()}/saves/{args.arch_type}/{args.dataset}/\")\n",
        "    torch.save(model, f\"{os.getcwd()}/saves/{args.arch_type}/{args.dataset}/initial_state_dict_{args.prune_type}.pth.tar\")\n",
        "\n",
        "    ############################\n",
        "    ## Making Initial Mask\n",
        "    ############################\n",
        "    make_mask(model)\n",
        "\n",
        "    ###########################\n",
        "    ## Optimizer and Loss\n",
        "    ###########################\n",
        "    optimizer = torch.optim.Adam(model.parameters(), weight_decay=1e-4)\n",
        "    criterion = nn.CrossEntropyLoss()         ## Default was F.nll_loss\n",
        "    \n",
        "    #######################\n",
        "    ## Layer Looper\n",
        "    #######################\n",
        "    for name, param in model.named_parameters():\n",
        "        print(name, param.size())\n",
        "\n",
        "    #########################################################\n",
        "    ## Pruning\n",
        "    ## NOTE: First Pruning Iteration is of No Compression\n",
        "    ##########################################################\n",
        "    best_accuracy = 0                     ## Variable for storing Best accuracy observed in each prune iteration\n",
        "    ITERATION = args.prune_iterations     ## No. of Prune iterations as put in argument while calling\n",
        "    comp = np.zeros(ITERATION,float)      ## Array for storing % weights left after pruning in each prune iteration\n",
        "    bestacc = np.zeros(ITERATION,float)   ## Array for storing Best accuracy in each prune iteration \n",
        "    step = 0\n",
        "    all_loss = np.zeros(args.end_iter,float)      ## Array for storing loss in each training iteration\n",
        "    all_accuracy = np.zeros(args.end_iter,float)  ## Array for storing accuracy in each training iteration\n",
        "    all_masks = []\n",
        "\n",
        "\n",
        "    for _ite in range(args.start_iter, ITERATION):      ## Iterating over no. of prune iterations\n",
        "        all_masks.append(mask)    ## Keeping track of all the masks obtained from each pruning iteration\n",
        "        if not _ite == 0:      ## So that in the very first iteration, 100% of the weights remain\n",
        "            prune_by_percentile(args.prune_percent, resample = resample, reinit = reinit)\n",
        "\n",
        "            if reinit:                     ## If weights are set to re-initialization\n",
        "                model.apply(weight_init)   ## Weight initialized using \"weight_init\" fn.\n",
        "                step = 0\n",
        "                for name, param in model.named_parameters():\n",
        "                    if 'weight' in name:\n",
        "                        weight_dev = param.device\n",
        "                        param.data = torch.from_numpy(param.data.cpu().numpy() * mask[step]).to(weight_dev)   ## Applying the mask over the set of parameters\n",
        "                        step = step + 1\n",
        "                step = 0\n",
        "            \n",
        "            else:                       ## If weights are NOT set to re-initialization\n",
        "                original_initialization(mask, initial_state_dict)      ## Applying mask over set of parameters set of original initialization\n",
        "            \n",
        "            optimizer = torch.optim.Adam(model.parameters(), lr=args.lr, weight_decay=1e-4)\n",
        "        \n",
        "        print(\"\\n\")\n",
        "        print(f\" \\n--- Pruning Level [{ITE}:{_ite}/{ITERATION}]: ---\")\n",
        "        \n",
        "        #########################################################\n",
        "        ## Print the table of Nonzeros in each layer of a model\n",
        "        #########################################################\n",
        "        comp1 = print_nonzeros(model)\n",
        "        comp[_ite] = comp1\n",
        "        pbar = tqdm(range(args.end_iter))\n",
        "\n",
        "        for iter_ in pbar:     ## Iterating over training iterations in each prune iteration\n",
        "            ################################\n",
        "            ## Frequency for Testing\n",
        "            ################################\n",
        "            if iter_ % args.valid_freq == 0:\n",
        "                accuracy = test(model, test_loader, criterion)\n",
        "\n",
        "                ###################\n",
        "                ## Save Weights\n",
        "                ###################\n",
        "                if accuracy > best_accuracy:\n",
        "                    best_accuracy = accuracy\n",
        "                    checkdir(f\"{os.getcwd()}/saves/{args.arch_type}/{args.dataset}/\")\n",
        "                    torch.save(model,f\"{os.getcwd()}/saves/{args.arch_type}/{args.dataset}/{_ite}_model_{args.prune_type}.pth.tar\") \n",
        "            \n",
        "            ###################\n",
        "            ## Training\n",
        "            ###################\n",
        "            loss = train(model, train_loader, optimizer, criterion)\n",
        "            all_loss[iter_] = loss\n",
        "            all_accuracy[iter_] = accuracy\n",
        "            # print(f\"\\nTrain epoch: {iter_} | All_accuracy: {all_accuracy} |  accuracy at that epoch: {accuracy}\")\n",
        "            # print(f\"\\nTrain epoch: {iter_} | All_loss: {all_loss} | accuracy at that epoch: {loss}\")\n",
        "\n",
        "            ###############################################\n",
        "            # Frequency for Printing Accuracy and Loss\n",
        "            ###############################################\n",
        "            if iter_ % args.print_freq == 0:\n",
        "                pbar.set_description(\n",
        "                    f'Train Epoch: {iter_}/{args.end_iter} Loss: {loss:.6f} Accuracy: {accuracy:.2f}% Best Accuracy: {best_accuracy:.2f}%')       \n",
        "\n",
        "        writer.add_scalar('Accuracy/test', best_accuracy, comp1)\n",
        "        bestacc[_ite] = best_accuracy    ## Storing the Best Accuracies obtained in each pruning iteration\n",
        "\n",
        "        ########################################################################################################################################################################################################\n",
        "        ## Plotting Loss (Training), Accuracy (Testing), Iteration Curve\n",
        "        ## NOTE: Loss is computed for every iteration while Accuracy is computed only for every {args.valid_freq} iterations. Therefore Accuracy saved is constant during the uncomputed iterations.\n",
        "        ## NOTE: Normalized the accuracy to [0,100] for ease of plotting.\n",
        "        ########################################################################################################################################################################################################\n",
        "        plt.plot(np.arange(1,(args.end_iter)+1), 100*(all_loss - np.min(all_loss))/np.ptp(all_loss).astype(float), c=\"blue\", label=\"Loss\") \n",
        "        plt.plot(np.arange(1,(args.end_iter)+1), all_accuracy, c=\"red\", label=\"Accuracy\") \n",
        "        Loss.append(100*(all_loss - np.min(all_loss))/np.ptp(all_loss))\n",
        "        Accuracies.append(all_accuracy)\n",
        "        Iters.append(args.end_iter)\n",
        "        Comps.append(comp1)\n",
        "        plt.title(f\"Loss Vs Accuracy Vs Iterations ({args.dataset},{args.arch_type})\") \n",
        "        plt.xlabel(\"Iterations\") \n",
        "        plt.ylabel(\"Loss and Accuracy\") \n",
        "        plt.legend() \n",
        "        plt.grid(color=\"gray\") \n",
        "        checkdir(f\"{os.getcwd()}/plots/lt/{args.arch_type}/{args.dataset}/\")\n",
        "        plt.savefig(f\"{os.getcwd()}/plots/lt/{args.arch_type}/{args.dataset}/{args.prune_type}_LossVsAccuracy_{comp1}.png\", dpi=1200) \n",
        "        plt.close()\n",
        "\n",
        "    ## Setting the variables back to 0 for the next iteration\n",
        "        best_accuracy = 0\n",
        "        all_loss = np.zeros(args.end_iter,float)\n",
        "        all_accuracy = np.zeros(args.end_iter,float)\n",
        "\n",
        "    ######################\n",
        "    ## Plotting \n",
        "    ######################\n",
        "    prune_iterations = np.arange(args.prune_iterations)                       ## Gives the range till number of prune_iterations\n",
        "    plt.plot(prune_iterations, bestacc, c=\"blue\", label=\"Winning tickets\")    ## Plotting the Best test accuracies at each prune iterations\n",
        "    plt.title(f\"Test Accuracy vs Unpruned Weights Percentage ({args.dataset},{args.arch_type})\") \n",
        "    plt.xlabel(\"Unpruned Weights Percentage\") \n",
        "    plt.ylabel(\"Test Accuracy\") \n",
        "    plt.xticks(prune_iterations, comp, rotation =\"vertical\") \n",
        "    plt.ylim(0,100)\n",
        "    plt.legend() \n",
        "    plt.grid(color=\"gray\") \n",
        "    checkdir(f\"{os.getcwd()}/plots/lt/{args.arch_type}/{args.dataset}/\")\n",
        "    plt.savefig(f\"{os.getcwd()}/plots/lt/{args.arch_type}/{args.dataset}/{args.prune_type}_AccuracyVsWeights.png\", dpi=1200) \n",
        "    plt.close() \n",
        "\n",
        "\n",
        "    ###########################################################################\n",
        "    ## Finding the best winning ticket (with highest test accuracy)\n",
        "    ###########################################################################\n",
        "    \n",
        "    best_model_acc_iter = 1+np.argmax(bestacc[1:])             ## Prune iteration for which the model gave best accuracy, giving us the winning ticket\n",
        "    best_model = torch.load(f\"{os.getcwd()}/saves/{args.arch_type}/{args.dataset}/{best_model_acc_iter}_model_{args.prune_type}.pth.tar\")\n",
        "    best_model_test_accuracies = Accuracies[best_model_acc_iter] \n",
        "\n",
        "    return (best_model, best_model_test_accuracies, prune_iterations, comp, bestacc)                   \n",
        "\n",
        "\n",
        "\n",
        "############################################################################\n",
        "# Function to make an empty mask of the same size as the model\n",
        "############################################################################\n",
        "def make_mask(model):\n",
        "    global step\n",
        "    global mask\n",
        "    step = 0\n",
        "    for name, param in model.named_parameters(): \n",
        "        if 'weight' in name:\n",
        "            step = step + 1\n",
        "    mask = [None]* step \n",
        "    step = 0\n",
        "    for name, param in model.named_parameters(): \n",
        "        if 'weight' in name:\n",
        "            tensor = param.data.cpu().numpy()\n",
        "            mask[step] = np.ones_like(tensor)\n",
        "            step = step + 1\n",
        "    step = 0\n",
        "\n",
        "\n",
        "\n",
        "if __name__==\"__main__\":\n",
        "    class data():\n",
        "        def __init__(self, lr=1.2e-3, batch_size=60, start_iter=0, end_iter=50, print_freq=10, valid_freq=1, resume=True, prune_type=\"lt\", gpu=\"0\", dataset=\"mnist\", arch_type=\"fc1\", prune_percent=50, prune_iterations=10):\n",
        "          self.lr=lr\n",
        "          self.batch_size=batch_size\n",
        "          self.start_iter=start_iter\n",
        "          self.end_iter=end_iter\n",
        "          self.print_freq=print_freq\n",
        "          self.valid_freq=valid_freq\n",
        "          self.resume=resume\n",
        "          self.prune_type=prune_type\n",
        "          self.gpu=gpu\n",
        "          self.dataset=dataset\n",
        "          self.arch_type=arch_type\n",
        "          self.prune_percent=prune_percent\n",
        "          self.prune_iterations=prune_iterations\n",
        "\n",
        "    args = data()\n",
        "\n",
        "\n",
        "    os.environ[\"CUDA_DEVICE_ORDER\"]=\"PCI_BUS_ID\"   \n",
        "    os.environ[\"CUDA_VISIBLE_DEVICES\"]=args.gpu\n",
        "    \n",
        "    \n",
        "    #FIXME resample\n",
        "    resample = False\n",
        "\n",
        "    ##################################################################################\n",
        "    ## Creating empty lists to store the required entries in the __main__ function\n",
        "    ##################################################################################\n",
        "    Loss=[]\n",
        "    \n",
        "    Accuracies=[]\n",
        "    Iters=[]\n",
        "    Comps=[]\n",
        "    \n",
        "    (best_model, best_model_accuracy_array, prune_iterations, comp, best_acc) = main(args, ITE=1)"
      ],
      "execution_count": null,
      "outputs": [
        {
          "output_type": "stream",
          "text": [
            "Downloading http://yann.lecun.com/exdb/mnist/train-images-idx3-ubyte.gz to ../data/MNIST/raw/train-images-idx3-ubyte.gz\n"
          ],
          "name": "stdout"
        },
        {
          "output_type": "display_data",
          "data": {
            "application/vnd.jupyter.widget-view+json": {
              "model_id": "5be4a9d782fa4d30a1364348184c322d",
              "version_minor": 0,
              "version_major": 2
            },
            "text/plain": [
              "HBox(children=(FloatProgress(value=1.0, bar_style='info', max=1.0), HTML(value='')))"
            ]
          },
          "metadata": {
            "tags": []
          }
        },
        {
          "output_type": "stream",
          "text": [
            "Extracting ../data/MNIST/raw/train-images-idx3-ubyte.gz to ../data/MNIST/raw\n",
            "Downloading http://yann.lecun.com/exdb/mnist/train-labels-idx1-ubyte.gz to ../data/MNIST/raw/train-labels-idx1-ubyte.gz\n"
          ],
          "name": "stdout"
        },
        {
          "output_type": "display_data",
          "data": {
            "application/vnd.jupyter.widget-view+json": {
              "model_id": "40e34fb495a4486883cfe87c094a1d1f",
              "version_minor": 0,
              "version_major": 2
            },
            "text/plain": [
              "HBox(children=(FloatProgress(value=1.0, bar_style='info', max=1.0), HTML(value='')))"
            ]
          },
          "metadata": {
            "tags": []
          }
        },
        {
          "output_type": "stream",
          "text": [
            "Extracting ../data/MNIST/raw/train-labels-idx1-ubyte.gz to ../data/MNIST/raw\n",
            "Downloading http://yann.lecun.com/exdb/mnist/t10k-images-idx3-ubyte.gz to ../data/MNIST/raw/t10k-images-idx3-ubyte.gz\n"
          ],
          "name": "stdout"
        },
        {
          "output_type": "display_data",
          "data": {
            "application/vnd.jupyter.widget-view+json": {
              "model_id": "c254977a4b5b4f859d98eea9521790d1",
              "version_minor": 0,
              "version_major": 2
            },
            "text/plain": [
              "HBox(children=(FloatProgress(value=1.0, bar_style='info', max=1.0), HTML(value='')))"
            ]
          },
          "metadata": {
            "tags": []
          }
        },
        {
          "output_type": "stream",
          "text": [
            "Extracting ../data/MNIST/raw/t10k-images-idx3-ubyte.gz to ../data/MNIST/raw\n",
            "Downloading http://yann.lecun.com/exdb/mnist/t10k-labels-idx1-ubyte.gz to ../data/MNIST/raw/t10k-labels-idx1-ubyte.gz\n"
          ],
          "name": "stdout"
        },
        {
          "output_type": "display_data",
          "data": {
            "application/vnd.jupyter.widget-view+json": {
              "model_id": "b599ea2069664bf8b3bd714ed50ea476",
              "version_minor": 0,
              "version_major": 2
            },
            "text/plain": [
              "HBox(children=(FloatProgress(value=1.0, bar_style='info', max=1.0), HTML(value='')))"
            ]
          },
          "metadata": {
            "tags": []
          }
        },
        {
          "output_type": "stream",
          "text": [
            "Extracting ../data/MNIST/raw/t10k-labels-idx1-ubyte.gz to ../data/MNIST/raw\n",
            "Processing...\n",
            "Done!\n"
          ],
          "name": "stdout"
        },
        {
          "output_type": "stream",
          "text": [
            "/usr/local/lib/python3.6/dist-packages/torchvision/datasets/mnist.py:480: UserWarning: The given NumPy array is not writeable, and PyTorch does not support non-writeable tensors. This means you can write to the underlying (supposedly non-writeable) NumPy array using the tensor. You may want to copy the array to protect its data or make it writeable before converting it to a tensor. This type of warning will be suppressed for the rest of this program. (Triggered internally at  /pytorch/torch/csrc/utils/tensor_numpy.cpp:141.)\n",
            "  return torch.from_numpy(parsed.astype(m[2], copy=False)).view(*s)\n",
            "  0%|          | 0/50 [00:00<?, ?it/s]"
          ],
          "name": "stderr"
        },
        {
          "output_type": "stream",
          "text": [
            "classifier.0.weight torch.Size([300, 784])\n",
            "classifier.0.bias torch.Size([300])\n",
            "classifier.2.weight torch.Size([100, 300])\n",
            "classifier.2.bias torch.Size([100])\n",
            "classifier.4.weight torch.Size([10, 100])\n",
            "classifier.4.bias torch.Size([10])\n",
            "\n",
            "\n",
            " \n",
            "--- Pruning Level [1:0/10]: ---\n",
            "classifier.0.weight  | nonzeros =  235200 /  235200 (100.00%) | total_pruned =       0 | shape = (300, 784)\n",
            "classifier.0.bias    | nonzeros =     300 /     300 (100.00%) | total_pruned =       0 | shape = (300,)\n",
            "classifier.2.weight  | nonzeros =   30000 /   30000 (100.00%) | total_pruned =       0 | shape = (100, 300)\n",
            "classifier.2.bias    | nonzeros =     100 /     100 (100.00%) | total_pruned =       0 | shape = (100,)\n",
            "classifier.4.weight  | nonzeros =    1000 /    1000 (100.00%) | total_pruned =       0 | shape = (10, 100)\n",
            "classifier.4.bias    | nonzeros =      10 /      10 (100.00%) | total_pruned =       0 | shape = (10,)\n",
            "alive: 266610, pruned : 0, total: 266610, Compression rate :       1.00x  (  0.00% pruned)\n"
          ],
          "name": "stdout"
        },
        {
          "output_type": "stream",
          "text": [
            "Train Epoch: 40/50 Loss: 0.004303 Accuracy: 96.52% Best Accuracy: 97.00%: 100%|██████████| 50/50 [13:51<00:00, 16.64s/it]\n",
            "  0%|          | 0/50 [00:00<?, ?it/s]"
          ],
          "name": "stderr"
        },
        {
          "output_type": "stream",
          "text": [
            "\n",
            "\n",
            " \n",
            "--- Pruning Level [1:1/10]: ---\n",
            "classifier.0.weight  | nonzeros =  117600 /  235200 ( 50.00%) | total_pruned =  117600 | shape = (300, 784)\n",
            "classifier.0.bias    | nonzeros =     300 /     300 (100.00%) | total_pruned =       0 | shape = (300,)\n",
            "classifier.2.weight  | nonzeros =   15000 /   30000 ( 50.00%) | total_pruned =   15000 | shape = (100, 300)\n",
            "classifier.2.bias    | nonzeros =     100 /     100 (100.00%) | total_pruned =       0 | shape = (100,)\n",
            "classifier.4.weight  | nonzeros =     500 /    1000 ( 50.00%) | total_pruned =     500 | shape = (10, 100)\n",
            "classifier.4.bias    | nonzeros =      10 /      10 (100.00%) | total_pruned =       0 | shape = (10,)\n",
            "alive: 133510, pruned : 133100, total: 266610, Compression rate :       2.00x  ( 49.92% pruned)\n"
          ],
          "name": "stdout"
        },
        {
          "output_type": "stream",
          "text": [
            "Train Epoch: 40/50 Loss: 0.037917 Accuracy: 96.39% Best Accuracy: 96.97%: 100%|██████████| 50/50 [14:07<00:00, 16.95s/it]\n",
            "  0%|          | 0/50 [00:00<?, ?it/s]"
          ],
          "name": "stderr"
        },
        {
          "output_type": "stream",
          "text": [
            "\n",
            "\n",
            " \n",
            "--- Pruning Level [1:2/10]: ---\n",
            "classifier.0.weight  | nonzeros =   58800 /  235200 ( 25.00%) | total_pruned =  176400 | shape = (300, 784)\n",
            "classifier.0.bias    | nonzeros =     300 /     300 (100.00%) | total_pruned =       0 | shape = (300,)\n",
            "classifier.2.weight  | nonzeros =    7500 /   30000 ( 25.00%) | total_pruned =   22500 | shape = (100, 300)\n",
            "classifier.2.bias    | nonzeros =     100 /     100 (100.00%) | total_pruned =       0 | shape = (100,)\n",
            "classifier.4.weight  | nonzeros =     250 /    1000 ( 25.00%) | total_pruned =     750 | shape = (10, 100)\n",
            "classifier.4.bias    | nonzeros =      10 /      10 (100.00%) | total_pruned =       0 | shape = (10,)\n",
            "alive: 66960, pruned : 199650, total: 266610, Compression rate :       3.98x  ( 74.88% pruned)\n"
          ],
          "name": "stdout"
        },
        {
          "output_type": "stream",
          "text": [
            "Train Epoch: 40/50 Loss: 0.083787 Accuracy: 96.82% Best Accuracy: 96.90%: 100%|██████████| 50/50 [14:11<00:00, 17.02s/it]\n",
            "  0%|          | 0/50 [00:00<?, ?it/s]"
          ],
          "name": "stderr"
        },
        {
          "output_type": "stream",
          "text": [
            "\n",
            "\n",
            " \n",
            "--- Pruning Level [1:3/10]: ---\n",
            "classifier.0.weight  | nonzeros =   29400 /  235200 ( 12.50%) | total_pruned =  205800 | shape = (300, 784)\n",
            "classifier.0.bias    | nonzeros =     300 /     300 (100.00%) | total_pruned =       0 | shape = (300,)\n",
            "classifier.2.weight  | nonzeros =    3750 /   30000 ( 12.50%) | total_pruned =   26250 | shape = (100, 300)\n",
            "classifier.2.bias    | nonzeros =     100 /     100 (100.00%) | total_pruned =       0 | shape = (100,)\n",
            "classifier.4.weight  | nonzeros =     125 /    1000 ( 12.50%) | total_pruned =     875 | shape = (10, 100)\n",
            "classifier.4.bias    | nonzeros =      10 /      10 (100.00%) | total_pruned =       0 | shape = (10,)\n",
            "alive: 33685, pruned : 232925, total: 266610, Compression rate :       7.91x  ( 87.37% pruned)\n"
          ],
          "name": "stdout"
        },
        {
          "output_type": "stream",
          "text": [
            "Train Epoch: 40/50 Loss: 0.040360 Accuracy: 96.71% Best Accuracy: 96.71%: 100%|██████████| 50/50 [13:49<00:00, 16.60s/it]\n",
            "  0%|          | 0/50 [00:00<?, ?it/s]"
          ],
          "name": "stderr"
        },
        {
          "output_type": "stream",
          "text": [
            "\n",
            "\n",
            " \n",
            "--- Pruning Level [1:4/10]: ---\n",
            "classifier.0.weight  | nonzeros =   14700 /  235200 (  6.25%) | total_pruned =  220500 | shape = (300, 784)\n",
            "classifier.0.bias    | nonzeros =     300 /     300 (100.00%) | total_pruned =       0 | shape = (300,)\n",
            "classifier.2.weight  | nonzeros =    1875 /   30000 (  6.25%) | total_pruned =   28125 | shape = (100, 300)\n",
            "classifier.2.bias    | nonzeros =     100 /     100 (100.00%) | total_pruned =       0 | shape = (100,)\n",
            "classifier.4.weight  | nonzeros =      63 /    1000 (  6.30%) | total_pruned =     937 | shape = (10, 100)\n",
            "classifier.4.bias    | nonzeros =      10 /      10 (100.00%) | total_pruned =       0 | shape = (10,)\n",
            "alive: 17048, pruned : 249562, total: 266610, Compression rate :      15.64x  ( 93.61% pruned)\n"
          ],
          "name": "stdout"
        },
        {
          "output_type": "stream",
          "text": [
            "Train Epoch: 40/50 Loss: 0.046992 Accuracy: 95.98% Best Accuracy: 96.12%: 100%|██████████| 50/50 [13:41<00:00, 16.43s/it]\n",
            "  0%|          | 0/50 [00:00<?, ?it/s]"
          ],
          "name": "stderr"
        },
        {
          "output_type": "stream",
          "text": [
            "\n",
            "\n",
            " \n",
            "--- Pruning Level [1:5/10]: ---\n",
            "classifier.0.weight  | nonzeros =    7350 /  235200 (  3.12%) | total_pruned =  227850 | shape = (300, 784)\n",
            "classifier.0.bias    | nonzeros =     300 /     300 (100.00%) | total_pruned =       0 | shape = (300,)\n",
            "classifier.2.weight  | nonzeros =     938 /   30000 (  3.13%) | total_pruned =   29062 | shape = (100, 300)\n",
            "classifier.2.bias    | nonzeros =     100 /     100 (100.00%) | total_pruned =       0 | shape = (100,)\n",
            "classifier.4.weight  | nonzeros =      32 /    1000 (  3.20%) | total_pruned =     968 | shape = (10, 100)\n",
            "classifier.4.bias    | nonzeros =      10 /      10 (100.00%) | total_pruned =       0 | shape = (10,)\n",
            "alive: 8730, pruned : 257880, total: 266610, Compression rate :      30.54x  ( 96.73% pruned)\n"
          ],
          "name": "stdout"
        },
        {
          "output_type": "stream",
          "text": [
            "Train Epoch: 40/50 Loss: 0.203860 Accuracy: 94.43% Best Accuracy: 94.78%: 100%|██████████| 50/50 [13:45<00:00, 16.51s/it]\n",
            "  0%|          | 0/50 [00:00<?, ?it/s]"
          ],
          "name": "stderr"
        },
        {
          "output_type": "stream",
          "text": [
            "\n",
            "\n",
            " \n",
            "--- Pruning Level [1:6/10]: ---\n",
            "classifier.0.weight  | nonzeros =    3676 /  235200 (  1.56%) | total_pruned =  231524 | shape = (300, 784)\n",
            "classifier.0.bias    | nonzeros =     300 /     300 (100.00%) | total_pruned =       0 | shape = (300,)\n",
            "classifier.2.weight  | nonzeros =     469 /   30000 (  1.56%) | total_pruned =   29531 | shape = (100, 300)\n",
            "classifier.2.bias    | nonzeros =     100 /     100 (100.00%) | total_pruned =       0 | shape = (100,)\n",
            "classifier.4.weight  | nonzeros =      16 /    1000 (  1.60%) | total_pruned =     984 | shape = (10, 100)\n",
            "classifier.4.bias    | nonzeros =      10 /      10 (100.00%) | total_pruned =       0 | shape = (10,)\n",
            "alive: 4571, pruned : 262039, total: 266610, Compression rate :      58.33x  ( 98.29% pruned)\n"
          ],
          "name": "stdout"
        },
        {
          "output_type": "stream",
          "text": [
            "Train Epoch: 40/50 Loss: 0.705858 Accuracy: 78.36% Best Accuracy: 78.51%: 100%|██████████| 50/50 [13:24<00:00, 16.09s/it]\n",
            "  0%|          | 0/50 [00:00<?, ?it/s]"
          ],
          "name": "stderr"
        },
        {
          "output_type": "stream",
          "text": [
            "\n",
            "\n",
            " \n",
            "--- Pruning Level [1:7/10]: ---\n",
            "classifier.0.weight  | nonzeros =    1838 /  235200 (  0.78%) | total_pruned =  233362 | shape = (300, 784)\n",
            "classifier.0.bias    | nonzeros =     300 /     300 (100.00%) | total_pruned =       0 | shape = (300,)\n",
            "classifier.2.weight  | nonzeros =     235 /   30000 (  0.78%) | total_pruned =   29765 | shape = (100, 300)\n",
            "classifier.2.bias    | nonzeros =     100 /     100 (100.00%) | total_pruned =       0 | shape = (100,)\n",
            "classifier.4.weight  | nonzeros =       8 /    1000 (  0.80%) | total_pruned =     992 | shape = (10, 100)\n",
            "classifier.4.bias    | nonzeros =      10 /      10 (100.00%) | total_pruned =       0 | shape = (10,)\n",
            "alive: 2491, pruned : 264119, total: 266610, Compression rate :     107.03x  ( 99.07% pruned)\n"
          ],
          "name": "stdout"
        },
        {
          "output_type": "stream",
          "text": [
            "Train Epoch: 40/50 Loss: 1.712113 Accuracy: 37.62% Best Accuracy: 38.61%: 100%|██████████| 50/50 [13:37<00:00, 16.34s/it]\n",
            "  0%|          | 0/50 [00:00<?, ?it/s]"
          ],
          "name": "stderr"
        },
        {
          "output_type": "stream",
          "text": [
            "\n",
            "\n",
            " \n",
            "--- Pruning Level [1:8/10]: ---\n",
            "classifier.0.weight  | nonzeros =     919 /  235200 (  0.39%) | total_pruned =  234281 | shape = (300, 784)\n",
            "classifier.0.bias    | nonzeros =     300 /     300 (100.00%) | total_pruned =       0 | shape = (300,)\n",
            "classifier.2.weight  | nonzeros =     118 /   30000 (  0.39%) | total_pruned =   29882 | shape = (100, 300)\n",
            "classifier.2.bias    | nonzeros =     100 /     100 (100.00%) | total_pruned =       0 | shape = (100,)\n",
            "classifier.4.weight  | nonzeros =       4 /    1000 (  0.40%) | total_pruned =     996 | shape = (10, 100)\n",
            "classifier.4.bias    | nonzeros =      10 /      10 (100.00%) | total_pruned =       0 | shape = (10,)\n",
            "alive: 1451, pruned : 265159, total: 266610, Compression rate :     183.74x  ( 99.46% pruned)\n"
          ],
          "name": "stdout"
        },
        {
          "output_type": "stream",
          "text": [
            "Train Epoch: 40/50 Loss: 2.194336 Accuracy: 19.30% Best Accuracy: 19.83%: 100%|██████████| 50/50 [13:46<00:00, 16.53s/it]\n",
            "  0%|          | 0/50 [00:00<?, ?it/s]"
          ],
          "name": "stderr"
        },
        {
          "output_type": "stream",
          "text": [
            "\n",
            "\n",
            " \n",
            "--- Pruning Level [1:9/10]: ---\n",
            "classifier.0.weight  | nonzeros =     460 /  235200 (  0.20%) | total_pruned =  234740 | shape = (300, 784)\n",
            "classifier.0.bias    | nonzeros =     300 /     300 (100.00%) | total_pruned =       0 | shape = (300,)\n",
            "classifier.2.weight  | nonzeros =      59 /   30000 (  0.20%) | total_pruned =   29941 | shape = (100, 300)\n",
            "classifier.2.bias    | nonzeros =     100 /     100 (100.00%) | total_pruned =       0 | shape = (100,)\n",
            "classifier.4.weight  | nonzeros =       2 /    1000 (  0.20%) | total_pruned =     998 | shape = (10, 100)\n",
            "classifier.4.bias    | nonzeros =      10 /      10 (100.00%) | total_pruned =       0 | shape = (10,)\n",
            "alive: 931, pruned : 265679, total: 266610, Compression rate :     286.37x  ( 99.65% pruned)\n"
          ],
          "name": "stdout"
        },
        {
          "output_type": "stream",
          "text": [
            "Train Epoch: 40/50 Loss: 2.164469 Accuracy: 19.22% Best Accuracy: 19.81%: 100%|██████████| 50/50 [13:44<00:00, 16.49s/it]\n"
          ],
          "name": "stderr"
        }
      ]
    },
    {
      "cell_type": "markdown",
      "metadata": {
        "id": "hj8UKvME5tB4"
      },
      "source": [
        "# Plotting the test accuracy of a model vs unpruned weights remaining in each model"
      ]
    },
    {
      "cell_type": "code",
      "metadata": {
        "colab": {
          "base_uri": "https://localhost:8080/",
          "height": 314
        },
        "id": "GnWk_Apz5CjI",
        "outputId": "84226d35-9975-456f-ea83-d5d84106b44e"
      },
      "source": [
        "import seaborn as sns\r\n",
        "sns.set_style(\"whitegrid\")\r\n",
        "plt.plot(prune_iterations, best_acc, c=\"blue\", label=\"Winning tickets\") \r\n",
        "plt.title(f\"Test Accuracy vs Unpruned Weights Percentage ({args.dataset},{args.arch_type})\") \r\n",
        "plt.xlabel(\"Unpruned Weights Percentage\") \r\n",
        "plt.ylabel(\"Test Accuracy\") \r\n",
        "plt.xticks(prune_iterations, comp, rotation =\"vertical\") \r\n",
        "plt.legend() \r\n",
        "plt.show()\r\n",
        "plt.close()"
      ],
      "execution_count": null,
      "outputs": [
        {
          "output_type": "display_data",
          "data": {
            "image/png": "[encoded data removed]",
            "text/plain": [
              "<Figure size 432x288 with 1 Axes>"
            ]
          },
          "metadata": {
            "tags": []
          }
        }
      ]
    },
    {
      "cell_type": "markdown",
      "metadata": {
        "id": "5EivHpSWTra4"
      },
      "source": [
        "#Loading the dataset for testing the model"
      ]
    },
    {
      "cell_type": "code",
      "metadata": {
        "id": "6qP8k4lBQ-CJ"
      },
      "source": [
        "#################\n",
        "## Data Loader\n",
        "#################\n",
        "transform=transforms.Compose([transforms.ToTensor(),transforms.Normalize((0.1307,), (0.3081,))])\n",
        "\n",
        "################################\n",
        "## Loading the MNIST dataset\n",
        "################################\n",
        "if args.dataset == \"mnist\":\n",
        "    traindataset = datasets.MNIST('../data', train = True, download = True, transform = transform)\n",
        "    testdataset = datasets.MNIST('../data', train=False, transform = transform)\n",
        "\n",
        "train_loader = torch.utils.data.DataLoader(traindataset, batch_size = args.batch_size, shuffle = True, num_workers = 0, drop_last = False)\n",
        "test_loader = torch.utils.data.DataLoader(testdataset, batch_size = args.batch_size, shuffle = False, num_workers = 0, drop_last = True)"
      ],
      "execution_count": null,
      "outputs": []
    },
    {
      "cell_type": "markdown",
      "metadata": {
        "id": "cCCl_z9Pjn4M"
      },
      "source": [
        "# Reload the best winning ticket obtained from main procedure"
      ]
    },
    {
      "cell_type": "code",
      "metadata": {
        "id": "zuZMNZh65O8H"
      },
      "source": [
        "final_model = copy.deepcopy(model.state_dict())\r\n",
        "final_mask = copy.deepcopy(mask)\r\n",
        "\r\n",
        "model = best_model"
      ],
      "execution_count": null,
      "outputs": []
    },
    {
      "cell_type": "code",
      "metadata": {
        "id": "YkaHzd_6fc2e"
      },
      "source": [
        "def random_testing(model, input):    ## To input an image and get the predicted label from it\r\n",
        "    test_loader = input\r\n",
        "    device = torch.device(\"cuda\" if torch.cuda.is_available() else \"cpu\")\r\n",
        "    model.eval()\r\n",
        "    torch.no_grad()\r\n",
        "    data = test_loader[0]\r\n",
        "    data = data.to(device)\r\n",
        "    output = model(data)\r\n",
        "    pred = output.data.max(1, keepdim=True)[1]\r\n",
        "    pred\r\n",
        "    return pred"
      ],
      "execution_count": null,
      "outputs": []
    },
    {
      "cell_type": "markdown",
      "metadata": {
        "id": "godxTa9tO2Ti"
      },
      "source": [
        "# Fun part of the demo: Predictions on images"
      ]
    },
    {
      "cell_type": "code",
      "metadata": {
        "id": "hCxVQjxty5Dd",
        "colab": {
          "base_uri": "https://localhost:8080/",
          "height": 348
        },
        "outputId": "90826e4e-bffb-4510-8912-32d782fa048c"
      },
      "source": [
        "index_input = int(input(\"Enter a number between 0 and 9999: \"))\r\n",
        "image_input = testdataset[index_input]\r\n",
        "print()\r\n",
        "print(\"Test input image from MNIST\")\r\n",
        "plt.imshow(testdataset.data[index_input])\r\n",
        "plt.show()\r\n",
        "\r\n",
        "print(\"Actual label of the image: \", testdataset.targets[index_input])\r\n",
        "print(\"Predicted label by the winning ticket: \", random_testing(model, image_input))\r\n"
      ],
      "execution_count": null,
      "outputs": [
        {
          "output_type": "stream",
          "text": [
            "Enter a number between 0 and 9999: 999\n",
            "\n",
            "Test input image from MNIST\n"
          ],
          "name": "stdout"
        },
        {
          "output_type": "display_data",
          "data": {
            "image/png": "[encoded data removed]",
            "text/plain": [
              "<Figure size 432x288 with 1 Axes>"
            ]
          },
          "metadata": {
            "tags": []
          }
        },
        {
          "output_type": "stream",
          "text": [
            "Actual label of the image:  tensor(9)\n",
            "Predicted label by the winning ticket:  tensor([[9]], device='cuda:0')\n"
          ],
          "name": "stdout"
        }
      ]
    },
    {
      "cell_type": "code",
      "metadata": {
        "id": "0-6oWVicUNfD"
      },
      "source": [
        ""
      ],
      "execution_count": null,
      "outputs": []
    }
  ]
}