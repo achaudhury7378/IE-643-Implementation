{
  "nbformat": 4,
  "nbformat_minor": 0,
  "metadata": {
    "colab": {
      "name": "Project_Implementation_Task1.ipynb",
      "provenance": [],
      "collapsed_sections": [],
      "include_colab_link": true
    },
    "kernelspec": {
      "name": "python3",
      "display_name": "Python 3"
    },
    "accelerator": "GPU"
  },
  "cells": [
    {
      "cell_type": "markdown",
      "metadata": {
        "id": "view-in-github",
        "colab_type": "text"
      },
      "source": [
        "<a href=\"https://colab.research.google.com/github/achaudhury7378/IE-643-Implementation/blob/main/Project_Implementation_Task1.ipynb\" target=\"_parent\"><img src=\"https://colab.research.google.com/assets/colab-badge.svg\" alt=\"Open In Colab\"/></a>"
      ]
    },
    {
      "cell_type": "markdown",
      "metadata": {
        "id": "otDoNfG8DZG_"
      },
      "source": [
        "# Importing The Libraries"
      ]
    },
    {
      "cell_type": "code",
      "metadata": {
        "id": "Ylt9UBYhlb_f"
      },
      "source": [
        "import argparse\n",
        "import copy\n",
        "import os\n",
        "import sys\n",
        "import numpy as np\n",
        "from tqdm import tqdm\n",
        "import torch\n",
        "import torch.nn as nn\n",
        "from torch.utils.data import random_split,ConcatDataset\n",
        "import torch.nn.functional as F\n",
        "import torchvision\n",
        "import torchvision.transforms as transforms\n",
        "import torchvision.datasets as datasets\n",
        "import matplotlib.pyplot as plt\n",
        "import os\n",
        "from torch.utils.tensorboard import SummaryWriter\n",
        "import torchvision.utils as vutils\n",
        "import seaborn as sns\n",
        "import torch.nn.init as init\n",
        "import pickle\n",
        "\n",
        "# Custom Libraries\n",
        "# import utils"
      ],
      "execution_count": null,
      "outputs": []
    },
    {
      "cell_type": "code",
      "metadata": {
        "id": "ALkl7L0-n24F"
      },
      "source": [
        "#ANCHOR Print table of zeros and non-zeros count\n",
        "def print_nonzeros(model):\n",
        "    nonzero = total = 0\n",
        "    for name, p in model.named_parameters():\n",
        "        tensor = p.data.cpu().numpy()\n",
        "        nz_count = np.count_nonzero(tensor)\n",
        "        total_params = np.prod(tensor.shape)\n",
        "        nonzero += nz_count\n",
        "        total += total_params\n",
        "        print(f'{name:20} | nonzeros = {nz_count:7} / {total_params:7} ({100 * nz_count / total_params:6.2f}%) | total_pruned = {total_params - nz_count :7} | shape = {tensor.shape}')\n",
        "    print(f'alive: {nonzero}, pruned : {total - nonzero}, total: {total}, Compression rate : {total/nonzero:10.2f}x  ({100 * (total-nonzero) / total:6.2f}% pruned)')\n",
        "    return (round((nonzero/total)*100,1))\n",
        "\n",
        "def original_initialization(mask_temp, initial_state_dict):\n",
        "    global model\n",
        "    \n",
        "    step = 0\n",
        "    for name, param in model.named_parameters(): \n",
        "        if \"weight\" in name: \n",
        "            weight_dev = param.device\n",
        "            param.data = torch.from_numpy(mask_temp[step] * initial_state_dict[name].cpu().numpy()).to(weight_dev)\n",
        "            step = step + 1\n",
        "        if \"bias\" in name:\n",
        "            param.data = initial_state_dict[name]\n",
        "    step = 0\n",
        "\n",
        "        \n",
        "\n",
        "\n",
        "#ANCHOR Checks of the directory exist and if not, creates a new directory\n",
        "def checkdir(directory):\n",
        "            if not os.path.exists(directory):\n",
        "                os.makedirs(directory)\n",
        "\n",
        "#FIXME \n",
        "def plot_train_test_stats(stats,\n",
        "                          epoch_num,\n",
        "                          key1='train',\n",
        "                          key2='test',\n",
        "                          key1_label=None,\n",
        "                          key2_label=None,\n",
        "                          xlabel=None,\n",
        "                          ylabel=None,\n",
        "                          title=None,\n",
        "                          yscale=None,\n",
        "                          ylim_bottom=None,\n",
        "                          ylim_top=None,\n",
        "                          savefig=None,\n",
        "                          sns_style='darkgrid'\n",
        "                          ):\n",
        "\n",
        "    assert len(stats[key1]) == epoch_num, \"len(stats['{}'])({}) != epoch_num({})\".format(key1, len(stats[key1]), epoch_num)\n",
        "    assert len(stats[key2]) == epoch_num, \"len(stats['{}'])({}) != epoch_num({})\".format(key2, len(stats[key2]), epoch_num)\n",
        "\n",
        "    plt.clf()\n",
        "    sns.set_style(sns_style)\n",
        "    x_ticks = np.arange(epoch_num)\n",
        "\n",
        "    plt.plot(x_ticks, stats[key1], label=key1_label)\n",
        "    plt.plot(x_ticks, stats[key2], label=key2_label)\n",
        "\n",
        "    if xlabel is not None:\n",
        "        plt.xlabel(xlabel)\n",
        "    if ylabel is not None:\n",
        "        plt.ylabel(ylabel)\n",
        "\n",
        "    if title is not None:\n",
        "        plt.title(title)\n",
        "\n",
        "    if yscale is not None:\n",
        "        plt.yscale(yscale)\n",
        "\n",
        "    if ylim_bottom is not None:\n",
        "        plt.ylim(bottom=ylim_bottom)\n",
        "    if ylim_top is not None:\n",
        "        plt.ylim(top=ylim_top)\n",
        "\n",
        "    plt.legend(bbox_to_anchor=(1.04,0.5), loc=\"center left\", borderaxespad=0, fancybox=True)\n",
        "\n",
        "    if savefig is not None:\n",
        "        plt.savefig(savefig, bbox_inches='tight')\n",
        "    else:\n",
        "        plt.show()"
      ],
      "execution_count": null,
      "outputs": []
    },
    {
      "cell_type": "markdown",
      "metadata": {
        "id": "2rRP3D4EDf0T"
      },
      "source": [
        "# Describing the Architectures"
      ]
    },
    {
      "cell_type": "code",
      "metadata": {
        "id": "jzH3GuskzYYa"
      },
      "source": [
        "class fc1(nn.Module):\n",
        "\n",
        "    def __init__(self, num_classes=10):\n",
        "        super(fc1, self).__init__()\n",
        "        self.classifier = nn.Sequential(\n",
        "            nn.Linear(28*28, 300),\n",
        "            nn.ReLU(inplace=True),\n",
        "            nn.Linear(300, 100),\n",
        "            nn.ReLU(inplace=True),\n",
        "            nn.Linear(100, num_classes),\n",
        "        )\n",
        "\n",
        "    def forward(self, x):\n",
        "        x = torch.flatten(x, 1)\n",
        "        x = self.classifier(x)\n",
        "        return x\n",
        "class LeNet5(nn.Module):\n",
        "    def __init__(self, num_classes=10):\n",
        "        super(LeNet5, self).__init__()\n",
        "        self.features = nn.Sequential(\n",
        "            nn.Conv2d(1, 64, kernel_size=(3, 3), stride=1, padding=1),\n",
        "            nn.ReLU(),\n",
        "            nn.Conv2d(64, 64, kernel_size=(3, 3), stride=1, padding=1),\n",
        "            nn.ReLU(),\n",
        "            nn.MaxPool2d(kernel_size=2),\n",
        "        )\n",
        "        self.classifier = nn.Sequential(\n",
        "            nn.Linear(64*14*14, 256),\n",
        "            nn.ReLU(inplace=True),\n",
        "            nn.Linear(256, 256),\n",
        "            nn.ReLU(inplace=True),\n",
        "            nn.Linear(256, num_classes),\n",
        "        )\n",
        "\n",
        "    def forward(self, x):\n",
        "        x = self.features(x)\n",
        "        x = torch.flatten(x, 1)\n",
        "        x = self.classifier(x)\n",
        "        return x"
      ],
      "execution_count": null,
      "outputs": []
    },
    {
      "cell_type": "code",
      "metadata": {
        "id": "DUnsuFkhUyGT"
      },
      "source": [
        "transform=transforms.Compose([transforms.ToTensor(),transforms.Normalize((0.1307,), (0.3081,))])"
      ],
      "execution_count": null,
      "outputs": []
    },
    {
      "cell_type": "code",
      "metadata": {
        "id": "aQjsSHfmRNn4"
      },
      "source": [
        "def my_split(traindataset):\n",
        "  idx=(traindataset.targets==0)\n",
        "  traindataset.targets = traindataset.targets[idx]\n",
        "  traindataset.data = traindataset.data[idx]\n",
        "  p=int((len(traindataset)-1)/2)\n",
        "  dat1,dat2=random_split(traindataset, [p,len(traindataset)-p], generator=torch.Generator().manual_seed(42))\n",
        "  for i in range(1,10):\n",
        "    traindataset = datasets.MNIST('../data', train=True, download=True,transform=transform)\n",
        "    idx=(traindataset.targets==i)\n",
        "    traindataset.targets = traindataset.targets[idx]\n",
        "    traindataset.data = traindataset.data[idx]\n",
        "    if len(traindataset)%2==0:\n",
        "      p=int(len(traindataset)/2)\n",
        "    else:\n",
        "      p=int((len(traindataset)-1)/2)\n",
        "    dat1_2,dat2_2=random_split(traindataset, [p,len(traindataset)-p], generator=torch.Generator().manual_seed(42))\n",
        "    dat1=ConcatDataset([dat1,dat1_2])\n",
        "    dat2=ConcatDataset([dat2,dat2_2])\n",
        "  return dat1,dat2"
      ],
      "execution_count": null,
      "outputs": []
    },
    {
      "cell_type": "code",
      "metadata": {
        "id": "_kEpeRBISwr3"
      },
      "source": [
        "v1,v2=my_split(traindataset)\n",
        "# v1.targets"
      ],
      "execution_count": null,
      "outputs": []
    },
    {
      "cell_type": "code",
      "metadata": {
        "id": "Rah_xegEWf7G"
      },
      "source": [
        "train_loader = torch.utils.data.DataLoader(v1, batch_size=60, shuffle=True, num_workers=0,drop_last=False)"
      ],
      "execution_count": null,
      "outputs": []
    },
    {
      "cell_type": "code",
      "metadata": {
        "id": "afgS28uTeYu6"
      },
      "source": [
        "train_loader_1 = torch.utils.data.DataLoader(v2, batch_size=60, shuffle=True, num_workers=0,drop_last=False)"
      ],
      "execution_count": null,
      "outputs": []
    },
    {
      "cell_type": "code",
      "metadata": {
        "id": "mj06qrQzTuMx"
      },
      "source": [
        "train_loader.shape"
      ],
      "execution_count": null,
      "outputs": []
    },
    {
      "cell_type": "markdown",
      "metadata": {
        "id": "DoURwVHJDnOl"
      },
      "source": [
        "# The Main Procedures"
      ]
    },
    {
      "cell_type": "code",
      "metadata": {
        "id": "32EVsePjnUc7"
      },
      "source": [
        "# Main\n",
        "writer = SummaryWriter()\n",
        "def main(args, ITE=0):\n",
        "    device = torch.device(\"cuda\" if torch.cuda.is_available() else \"cpu\")\n",
        "    reinit = True if args.prune_type==\"reinit\" else False\n",
        "\n",
        "    # Data Loader\n",
        "    transform=transforms.Compose([transforms.ToTensor(),transforms.Normalize((0.1307,), (0.3081,))])\n",
        "    if args.dataset == \"mnist\":\n",
        "        traindataset = datasets.MNIST('../data', train=True, download=True,transform=transform)\n",
        "        testdataset = datasets.MNIST('../data', train=False, transform=transform)\n",
        "        # from archs.mnist import LeNet5, fc1\n",
        "    # global v2\n",
        "    # v1,v2=my_split(traindataset)\n",
        "    train_loader = torch.utils.data.DataLoader(v2, batch_size=args.batch_size, shuffle=True, num_workers=0,drop_last=False)\n",
        "    #train_loader = cycle(train_loader)\n",
        "    test_loader = torch.utils.data.DataLoader(testdataset, batch_size=args.batch_size, shuffle=False, num_workers=0,drop_last=True)\n",
        "    \n",
        "    # Importing Network Architecture\n",
        "    global model\n",
        "    if args.arch_type == \"fc1\":\n",
        "       model = fc1().to(device)\n",
        "    elif args.arch_type == \"lenet5\":\n",
        "        model = LeNet5().to(device)\n",
        "\n",
        "\n",
        "    # Weight Initialization\n",
        "    model.apply(weight_init)\n",
        "\n",
        "    # Copying and Saving Initial State\n",
        "    initial_state_dict = copy.deepcopy(model.state_dict())\n",
        "    checkdir(f\"{os.getcwd()}/saves/{args.arch_type}/{args.dataset}/\")\n",
        "    torch.save(model, f\"{os.getcwd()}/saves/{args.arch_type}/{args.dataset}/initial_state_dict_{args.prune_type}.pth.tar\")\n",
        "\n",
        "    # Making Initial Mask\n",
        "    make_mask(model)\n",
        "\n",
        "    # Optimizer and Loss\n",
        "    optimizer = torch.optim.Adam(model.parameters(), weight_decay=1e-4)\n",
        "    criterion = nn.CrossEntropyLoss() # Default was F.nll_loss\n",
        "\n",
        "    # Layer Looper\n",
        "    for name, param in model.named_parameters():\n",
        "        print(name, param.size())\n",
        "\n",
        "    # Pruning\n",
        "    # NOTE First Pruning Iteration is of No Compression\n",
        "    bestacc = 0.0\n",
        "    best_accuracy = 0\n",
        "    ITERATION = args.prune_iterations\n",
        "    comp = np.zeros(ITERATION,float)\n",
        "    bestacc = np.zeros(ITERATION,float)\n",
        "    step = 0\n",
        "    all_loss = np.zeros(args.end_iter,float)\n",
        "    all_accuracy = np.zeros(args.end_iter,float)\n",
        "\n",
        "\n",
        "    for _ite in range(args.start_iter, ITERATION):\n",
        "        if not _ite == 0:\n",
        "            prune_by_percentile(args.prune_percent, resample=resample, reinit=reinit)\n",
        "            if reinit:\n",
        "                model.apply(weight_init)\n",
        "                #if args.arch_type == \"fc1\":\n",
        "                #    model = fc1.fc1().to(device)\n",
        "                #elif args.arch_type == \"lenet5\":\n",
        "                #    model = LeNet5.LeNet5().to(device)\n",
        "                #elif args.arch_type == \"alexnet\":\n",
        "                #    model = AlexNet.AlexNet().to(device)\n",
        "                #elif args.arch_type == \"vgg16\":\n",
        "                #    model = vgg.vgg16().to(device)  \n",
        "                #elif args.arch_type == \"resnet18\":\n",
        "                #    model = resnet.resnet18().to(device)   \n",
        "                #elif args.arch_type == \"densenet121\":\n",
        "                #    model = densenet.densenet121().to(device)   \n",
        "                #else:\n",
        "                #    print(\"\\nWrong Model choice\\n\")\n",
        "                #    exit()\n",
        "                step = 0\n",
        "                for name, param in model.named_parameters():\n",
        "                    if 'weight' in name:\n",
        "                        weight_dev = param.device\n",
        "                        param.data = torch.from_numpy(param.data.cpu().numpy() * mask[step]).to(weight_dev)\n",
        "                        step = step + 1\n",
        "                step = 0\n",
        "            else:\n",
        "                original_initialization(mask, initial_state_dict)\n",
        "            optimizer = torch.optim.Adam(model.parameters(), lr=args.lr, weight_decay=1e-4)\n",
        "        print(f\"\\n--- Pruning Level [{ITE}:{_ite}/{ITERATION}]: ---\")\n",
        "\n",
        "        # Print the table of Nonzeros in each layer\n",
        "        comp1 = print_nonzeros(model)\n",
        "        comp[_ite] = comp1\n",
        "        pbar = tqdm(range(args.end_iter))\n",
        "\n",
        "        for iter_ in pbar:\n",
        "\n",
        "            # Frequency for Testing\n",
        "            if iter_ % args.valid_freq == 0:\n",
        "                accuracy = test(model, test_loader, criterion)\n",
        "\n",
        "                # Save Weights\n",
        "                if accuracy > best_accuracy:\n",
        "                    best_accuracy = accuracy\n",
        "                    checkdir(f\"{os.getcwd()}/saves/{args.arch_type}/{args.dataset}/\")\n",
        "                    torch.save(model,f\"{os.getcwd()}/saves/{args.arch_type}/{args.dataset}/{_ite}_model_{args.prune_type}.pth.tar\")\n",
        "\n",
        "            # Training\n",
        "            loss = train(model, train_loader, optimizer, criterion)\n",
        "            all_loss[iter_] = loss\n",
        "            all_accuracy[iter_] = accuracy\n",
        "            \n",
        "            # Frequency for Printing Accuracy and Loss\n",
        "            if iter_ % args.print_freq == 0:\n",
        "                pbar.set_description(\n",
        "                    f'Train Epoch: {iter_}/{args.end_iter} Loss: {loss:.6f} Accuracy: {accuracy:.2f}% Best Accuracy: {best_accuracy:.2f}%')       \n",
        "\n",
        "        writer.add_scalar('Accuracy/test', best_accuracy, comp1)\n",
        "        bestacc[_ite]=best_accuracy\n",
        "\n",
        "        # Plotting Loss (Training), Accuracy (Testing), Iteration Curve\n",
        "        #NOTE Loss is computed for every iteration while Accuracy is computed only for every {args.valid_freq} iterations. Therefore Accuracy saved is constant during the uncomputed iterations.\n",
        "        #NOTE Normalized the accuracy to [0,100] for ease of plotting.\n",
        "        plt.plot(np.arange(1,(args.end_iter)+1), 100*(all_loss - np.min(all_loss))/np.ptp(all_loss).astype(float), c=\"blue\", label=\"Loss\") \n",
        "        plt.plot(np.arange(1,(args.end_iter)+1), all_accuracy, c=\"red\", label=\"Accuracy\") \n",
        "        Loss.append(100*(all_loss - np.min(all_loss))/np.ptp(all_loss))\n",
        "        Accuracies.append(all_accuracy)\n",
        "        Iters.append(args.end_iter)\n",
        "        Comps.append(comp1)\n",
        "        plt.title(f\"Loss Vs Accuracy Vs Iterations ({args.dataset},{args.arch_type})\") \n",
        "        plt.xlabel(\"Iterations\") \n",
        "        plt.ylabel(\"Loss and Accuracy\") \n",
        "        plt.legend() \n",
        "        plt.grid(color=\"gray\") \n",
        "        checkdir(f\"{os.getcwd()}/plots/lt/{args.arch_type}/{args.dataset}/\")\n",
        "        plt.savefig(f\"{os.getcwd()}/plots/lt/{args.arch_type}/{args.dataset}/{args.prune_type}_LossVsAccuracy_{comp1}.png\", dpi=1200) \n",
        "        plt.close()\n",
        "\n",
        "        # Dump Plot values\n",
        "        # utils.checkdir(f\"{os.getcwd()}/dumps/lt/{args.arch_type}/{args.dataset}/\")\n",
        "        # all_loss.dump(f\"{os.getcwd()}/dumps/lt/{args.arch_type}/{args.dataset}/{args.prune_type}_all_loss_{comp1}.dat\")\n",
        "        # all_accuracy.dump(f\"{os.getcwd()}/dumps/lt/{args.arch_type}/{args.dataset}/{args.prune_type}_all_accuracy_{comp1}.dat\")\n",
        "        \n",
        "        # Dumping mask\n",
        "        # utils.checkdir(f\"{os.getcwd()}/dumps/lt/{args.arch_type}/{args.dataset}/\")\n",
        "        # with open(f\"{os.getcwd()}/dumps/lt/{args.arch_type}/{args.dataset}/{args.prune_type}_mask_{comp1}.pkl\", 'wb') as fp:\n",
        "        #     pickle.dump(mask, fp)\n",
        "        \n",
        "        # Making variables into 0\n",
        "        best_accuracy = 0\n",
        "        all_loss = np.zeros(args.end_iter,float)\n",
        "        all_accuracy = np.zeros(args.end_iter,float)\n",
        "\n",
        "    # Dumping Values for Plotting\n",
        "    # utils.checkdir(f\"{os.getcwd()}/dumps/lt/{args.arch_type}/{args.dataset}/\")\n",
        "    # comp.dump(f\"{os.getcwd()}/dumps/lt/{args.arch_type}/{args.dataset}/{args.prune_type}_compression.dat\")\n",
        "    # bestacc.dump(f\"{os.getcwd()}/dumps/lt/{args.arch_type}/{args.dataset}/{args.prune_type}_bestaccuracy.dat\")\n",
        "\n",
        "    # Plotting \n",
        "    a = np.arange(args.prune_iterations)\n",
        "    plt.plot(a, bestacc, c=\"blue\", label=\"Winning tickets\") \n",
        "    plt.title(f\"Test Accuracy vs Unpruned Weights Percentage ({args.dataset},{args.arch_type})\") \n",
        "    plt.xlabel(\"Unpruned Weights Percentage\") \n",
        "    plt.ylabel(\"test accuracy\") \n",
        "    plt.xticks(a, comp, rotation =\"vertical\") \n",
        "    plt.ylim(0,100)\n",
        "    plt.legend() \n",
        "    plt.grid(color=\"gray\") \n",
        "    checkdir(f\"{os.getcwd()}/plots/lt/{args.arch_type}/{args.dataset}/\")\n",
        "    plt.savefig(f\"{os.getcwd()}/plots/lt/{args.arch_type}/{args.dataset}/{args.prune_type}_AccuracyVsWeights.png\", dpi=1200) \n",
        "    plt.close() \n",
        "    return (a,comp,bestacc)                   \n",
        "   \n",
        "# Function for Training\n",
        "def train(model, train_loader, optimizer, criterion):\n",
        "    EPS = 1e-6\n",
        "    device = torch.device(\"cuda\" if torch.cuda.is_available() else \"cpu\")\n",
        "    model.train()\n",
        "    for batch_idx, (imgs, targets) in enumerate(train_loader):\n",
        "        optimizer.zero_grad()\n",
        "        #imgs, targets = next(train_loader)\n",
        "        imgs, targets = imgs.to(device), targets.to(device)\n",
        "        output = model(imgs)\n",
        "        train_loss = criterion(output, targets)\n",
        "        train_loss.backward()\n",
        "        # print(imgs.shape)\n",
        "\n",
        "        # Freezing Pruned weights by making their gradients Zero\n",
        "        for name, p in model.named_parameters():\n",
        "            if 'weight' in name:\n",
        "                tensor = p.data.cpu().numpy()\n",
        "                grad_tensor = p.grad.data.cpu().numpy()\n",
        "                grad_tensor = np.where(tensor < EPS, 0, grad_tensor)\n",
        "                p.grad.data = torch.from_numpy(grad_tensor).to(device)\n",
        "        optimizer.step()\n",
        "    return train_loss.item()\n",
        "\n",
        "# Function for Testing\n",
        "def test(model, test_loader, criterion):\n",
        "    device = torch.device(\"cuda\" if torch.cuda.is_available() else \"cpu\")\n",
        "    model.eval()\n",
        "    test_loss = 0\n",
        "    correct = 0\n",
        "    data_len=0\n",
        "    with torch.no_grad():\n",
        "        for data, target in test_loader:\n",
        "          data, target = data.to(device), target.to(device)\n",
        "          output = model(data)\n",
        "          test_loss += F.nll_loss(output, target, reduction='sum').item()  # sum up batch loss\n",
        "          pred = output.data.max(1, keepdim=True)[1]  # get the index of the max log-probability\n",
        "          correct += pred.eq(target.data.view_as(pred)).sum().item()\n",
        "        test_loss /= len(test_loader.dataset)\n",
        "        accuracy = 100. * correct /len(test_loader.dataset)\n",
        "    return accuracy\n",
        "\n",
        "# Prune by Percentile module\n",
        "def prune_by_percentile(percent, resample=False, reinit=False,**kwargs):\n",
        "        global step\n",
        "        global mask\n",
        "        global model\n",
        "\n",
        "        # Calculate percentile value\n",
        "        step = 0\n",
        "        for name, param in model.named_parameters():\n",
        "\n",
        "            # We do not prune bias term\n",
        "            if 'weight' in name:\n",
        "                tensor = param.data.cpu().numpy()\n",
        "                alive = tensor[np.nonzero(tensor)] # flattened array of nonzero values\n",
        "                percentile_value = np.percentile(abs(alive), percent)\n",
        "\n",
        "                # Convert Tensors to numpy and calculate\n",
        "                weight_dev = param.device\n",
        "                new_mask = np.where(abs(tensor) < percentile_value, 0, mask[step])\n",
        "                \n",
        "                # Apply new weight and mask\n",
        "                param.data = torch.from_numpy(tensor * new_mask).to(weight_dev)\n",
        "                mask[step] = new_mask\n",
        "                step += 1\n",
        "        step = 0\n",
        "\n",
        "# Function to make an empty mask of the same size as the model\n",
        "def make_mask(model):\n",
        "    global step\n",
        "    global mask\n",
        "    step = 0\n",
        "    for name, param in model.named_parameters(): \n",
        "        if 'weight' in name:\n",
        "            step = step + 1\n",
        "    mask = [None]* step \n",
        "    step = 0\n",
        "    for name, param in model.named_parameters(): \n",
        "        if 'weight' in name:\n",
        "            tensor = param.data.cpu().numpy()\n",
        "            mask[step] = np.ones_like(tensor)\n",
        "            step = step + 1\n",
        "    step = 0\n",
        "\n",
        "# def original_initialization(mask_temp, initial_state_dict):\n",
        "#     global model\n",
        "    \n",
        "#     step = 0\n",
        "#     for name, param in model.named_parameters(): \n",
        "#         if \"weight\" in name: \n",
        "#             weight_dev = param.device\n",
        "#             param.data = torch.from_numpy(mask_temp[step] * initial_state_dict[name].cpu().numpy()).to(weight_dev)\n",
        "#             step = step + 1\n",
        "#         if \"bias\" in name:\n",
        "#             param.data = initial_state_dict[name]\n",
        "#     step = 0\n",
        "\n",
        "# Function for Initialization\n",
        "def weight_init(m):\n",
        "    '''\n",
        "    Usage:\n",
        "        model = Model()\n",
        "        model.apply(weight_init)\n",
        "    '''\n",
        "    if isinstance(m, nn.Conv1d):\n",
        "        init.normal_(m.weight.data)\n",
        "        if m.bias is not None:\n",
        "            init.normal_(m.bias.data)\n",
        "    elif isinstance(m, nn.Conv2d):\n",
        "        init.xavier_normal_(m.weight.data)\n",
        "        if m.bias is not None:\n",
        "            init.normal_(m.bias.data)\n",
        "    elif isinstance(m, nn.Conv3d):\n",
        "        init.xavier_normal_(m.weight.data)\n",
        "        if m.bias is not None:\n",
        "            init.normal_(m.bias.data)\n",
        "    elif isinstance(m, nn.ConvTranspose1d):\n",
        "        init.normal_(m.weight.data)\n",
        "        if m.bias is not None:\n",
        "            init.normal_(m.bias.data)\n",
        "    elif isinstance(m, nn.ConvTranspose2d):\n",
        "        init.xavier_normal_(m.weight.data)\n",
        "        if m.bias is not None:\n",
        "            init.normal_(m.bias.data)\n",
        "    elif isinstance(m, nn.ConvTranspose3d):\n",
        "        init.xavier_normal_(m.weight.data)\n",
        "        if m.bias is not None:\n",
        "            init.normal_(m.bias.data)\n",
        "    elif isinstance(m, nn.BatchNorm1d):\n",
        "        init.normal_(m.weight.data, mean=1, std=0.02)\n",
        "        init.constant_(m.bias.data, 0)\n",
        "    elif isinstance(m, nn.BatchNorm2d):\n",
        "        init.normal_(m.weight.data, mean=1, std=0.02)\n",
        "        init.constant_(m.bias.data, 0)\n",
        "    elif isinstance(m, nn.BatchNorm3d):\n",
        "        init.normal_(m.weight.data, mean=1, std=0.02)\n",
        "        init.constant_(m.bias.data, 0)\n",
        "    elif isinstance(m, nn.Linear):\n",
        "        init.xavier_normal_(m.weight.data)\n",
        "        init.normal_(m.bias.data)\n",
        "    elif isinstance(m, nn.LSTM):\n",
        "        for param in m.parameters():\n",
        "            if len(param.shape) >= 2:\n",
        "                init.orthogonal_(param.data)\n",
        "            else:\n",
        "                init.normal_(param.data)\n",
        "    elif isinstance(m, nn.LSTMCell):\n",
        "        for param in m.parameters():\n",
        "            if len(param.shape) >= 2:\n",
        "                init.orthogonal_(param.data)\n",
        "            else:\n",
        "                init.normal_(param.data)\n",
        "    elif isinstance(m, nn.GRU):\n",
        "        for param in m.parameters():\n",
        "            if len(param.shape) >= 2:\n",
        "                init.orthogonal_(param.data)\n",
        "            else:\n",
        "                init.normal_(param.data)\n",
        "    elif isinstance(m, nn.GRUCell):\n",
        "        for param in m.parameters():\n",
        "            if len(param.shape) >= 2:\n",
        "                init.orthogonal_(param.data)\n",
        "            else:\n",
        "                init.normal_(param.data)\n",
        "\n",
        "\n",
        "if __name__==\"__main__\":\n",
        "    \n",
        "    #from gooey import Gooey\n",
        "    #@Gooey      \n",
        "    \n",
        "    # Arguement Parser\n",
        "    # parser = argparse.ArgumentParser()\n",
        "    # parser.add_argument(\"--lr\",default= 1.2e-3, type=float, help=\"Learning rate\")\n",
        "    # parser.add_argument(\"--batch_size\", default=60, type=int)\n",
        "    # parser.add_argument(\"--start_iter\", default=0, type=int)\n",
        "    # parser.add_argument(\"--end_iter\", default=100, type=int)\n",
        "    # parser.add_argument(\"--print_freq\", default=1, type=int)\n",
        "    # parser.add_argument(\"--valid_freq\", default=1, type=int)\n",
        "    # parser.add_argument(\"--resume\", action=\"store_true\")\n",
        "    # parser.add_argument(\"--prune_type\", default=\"lt\", type=str, help=\"lt | reinit\")\n",
        "    # parser.add_argument(\"--gpu\", default=\"0\", type=str)\n",
        "    # parser.add_argument(\"--dataset\", default=\"mnist\", type=str, help=\"mnist | cifar10 | fashionmnist | cifar100\")\n",
        "    # parser.add_argument(\"--arch_type\", default=\"fc1\", type=str, help=\"fc1 | lenet5 | alexnet | vgg16 | resnet18 | densenet121\")\n",
        "    # parser.add_argument(\"--prune_percent\", default=10, type=int, help=\"Pruning percent\")\n",
        "    # parser.add_argument(\"--prune_iterations\", default=35, type=int, help=\"Pruning iterations count\")\n",
        "\n",
        "    class data():\n",
        "        def __init__(self,lr=1.2e-3,batch_size=70,start_iter=0,end_iter=50,print_freq=1,valid_freq=10,resume=True,prune_type=\"lt\",gpu=\"0\",dataset=\"mnist\",arch_type=\"lenet5\",prune_percent=20,prune_iterations=20):\n",
        "          self.lr=lr\n",
        "          self.batch_size=batch_size\n",
        "          # self.transfer=transfer\n",
        "          self.start_iter=start_iter\n",
        "          self.end_iter=end_iter\n",
        "          self.print_freq=print_freq\n",
        "          self.valid_freq=valid_freq\n",
        "          self.resume=resume\n",
        "          self.prune_type=prune_type\n",
        "          self.gpu=gpu\n",
        "          self.dataset=dataset\n",
        "          self.arch_type=arch_type\n",
        "          self.prune_percent=prune_percent\n",
        "          self.prune_iterations=prune_iterations\n",
        "\n",
        "    args = data()\n",
        "\n",
        "\n",
        "    os.environ[\"CUDA_DEVICE_ORDER\"]=\"PCI_BUS_ID\"   \n",
        "    os.environ[\"CUDA_VISIBLE_DEVICES\"]=args.gpu\n",
        "    \n",
        "    \n",
        "    #FIXME resample\n",
        "    resample = False\n",
        "    Loss=[]\n",
        "    Accuracies=[]\n",
        "    Iters=[]\n",
        "    Comps=[]\n",
        "    # Looping Entire process\n",
        "    #for i in range(0, 5):\n",
        "    (a,comp,best_acc)=main(args, ITE=1)"
      ],
      "execution_count": null,
      "outputs": []
    },
    {
      "cell_type": "code",
      "metadata": {
        "id": "MYDHVs1RR4LC",
        "colab": {
          "base_uri": "https://localhost:8080/",
          "height": 314
        },
        "outputId": "6970d8b5-b48e-416f-845c-cf773374d91a"
      },
      "source": [
        "plt.plot(a, best_acc, c=\"blue\", label=\"Winning tickets\") \n",
        "plt.title(f\"Test Accuracy vs Unpruned Weights Percentage ({args.dataset},{args.arch_type})\") \n",
        "plt.xlabel(\"Unpruned Weights Percentage\") \n",
        "plt.ylabel(\"test accuracy\") \n",
        "plt.xticks(a, comp, rotation =\"vertical\") \n",
        "# plt.ylim(0,100)\n",
        "plt.legend() \n",
        "plt.grid(color=\"gray\") \n",
        "# checkdir(f\"{os.getcwd()}/plots/lt/{args.arch_type}/{args.dataset}/\")\n",
        "# plt.savefig(f\"{os.getcwd()}/plots/lt/{args.arch_type}/{args.dataset}/{args.prune_type}_AccuracyVsWeights.png\", dpi=1200) \n",
        "plt.show()\n",
        "plt.close()"
      ],
      "execution_count": null,
      "outputs": [
        {
          "output_type": "display_data",
          "data": {
            "image/png": "[encoded data removed]",
            "text/plain": [
              "<Figure size 432x288 with 1 Axes>"
            ]
          },
          "metadata": {
            "tags": [],
            "needs_background": "light"
          }
        }
      ]
    },
    {
      "cell_type": "code",
      "metadata": {
        "id": "cUxjD0Upzo6Z",
        "colab": {
          "base_uri": "https://localhost:8080/",
          "height": 513
        },
        "outputId": "86dab7d2-02f9-403b-f546-add80bca3d31"
      },
      "source": [
        "#Plot Losses \n",
        "# levels=np.arange(1,(args.end_iter)+1)\n",
        "# for i in range(len(Iters)):\n",
        "#   levels=np.arange(1,(Iters[i])+1)\n",
        "plt.plot(Loss[-1])\n",
        "# plt.legend(Comps)\n",
        "plt.show()\n",
        "#Plot Accuracies\n",
        "# for i in range(len(Iters)):\n",
        "#   levels=np.arange(1,(Iters[i])+1)\n",
        "plt.plot(Accuracies[-1])\n",
        "# plt.legend(Comps)\n",
        "plt.show()"
      ],
      "execution_count": null,
      "outputs": [
        {
          "output_type": "display_data",
          "data": {
            "image/png": "[encoded data removed]",
            "text/plain": [
              "<Figure size 432x288 with 1 Axes>"
            ]
          },
          "metadata": {
            "tags": [],
            "needs_background": "light"
          }
        },
        {
          "output_type": "display_data",
          "data": {
            "image/png": "[encoded data removed]",
            "text/plain": [
              "<Figure size 432x288 with 1 Axes>"
            ]
          },
          "metadata": {
            "tags": [],
            "needs_background": "light"
          }
        }
      ]
    },
    {
      "cell_type": "code",
      "metadata": {
        "id": "RQ2M-nszU2cD"
      },
      "source": [
        "transform=transforms.Compose([transforms.ToTensor(),transforms.Normalize((0.1307,), (0.3081,))])\n",
        "# traindataset = datasets.MNIST('../data', train=True, download=True,transform=transform)\n",
        "testdataset = datasets.MNIST('../data', train=False, transform=transform)\n",
        "# train_loader = torch.utils.data.DataLoader(traindataset, batch_size=args.batch_size, shuffle=True, num_workers=0,drop_last=False)\n",
        "test_loader = torch.utils.data.DataLoader(testdataset, batch_size=args.batch_size, shuffle=False, num_workers=0,drop_last=True)"
      ],
      "execution_count": null,
      "outputs": []
    },
    {
      "cell_type": "code",
      "metadata": {
        "id": "NxL-ajYAbW0A"
      },
      "source": [
        "train_loader = torch.utils.data.DataLoader(v2, batch_size=args.batch_size, shuffle=True, num_workers=0,drop_last=False)"
      ],
      "execution_count": null,
      "outputs": []
    },
    {
      "cell_type": "code",
      "metadata": {
        "id": "n8UK4WWIjAeQ"
      },
      "source": [
        "initial_state_dict = copy.deepcopy(model.state_dict())"
      ],
      "execution_count": null,
      "outputs": []
    },
    {
      "cell_type": "code",
      "metadata": {
        "id": "F11xrZHxigIy"
      },
      "source": [
        "original_initialization(mask, initial_state_dict)"
      ],
      "execution_count": null,
      "outputs": []
    },
    {
      "cell_type": "code",
      "metadata": {
        "colab": {
          "base_uri": "https://localhost:8080/"
        },
        "id": "ZwZkqldQVOFo",
        "outputId": "7d91f916-ddbc-476b-c9bc-99f5f77d1323"
      },
      "source": [
        "pbar = tqdm(range(args.end_iter))\n",
        "all_loss = np.zeros(args.end_iter,float)\n",
        "all_accuracy=np.zeros(args.end_iter,float)\n",
        "optimizer = torch.optim.Adam(model.parameters(), weight_decay=1e-4)\n",
        "criterion = nn.CrossEntropyLoss()\n",
        "for iter_ in pbar:\n",
        "  loss = train(model, train_loader, optimizer, criterion)\n",
        "  accuracy = test(model, test_loader, criterion)\n",
        "  all_loss[iter_] = loss\n",
        "  all_accuracy[iter_]=accuracy"
      ],
      "execution_count": null,
      "outputs": [
        {
          "output_type": "stream",
          "text": [
            "\n",
            "  0%|          | 0/50 [00:00<?, ?it/s]\u001b[A\n",
            "  2%|▏         | 1/50 [00:12<10:26, 12.78s/it]\u001b[A\n",
            "  4%|▍         | 2/50 [00:25<10:10, 12.71s/it]\u001b[A\n",
            "  6%|▌         | 3/50 [00:37<09:56, 12.69s/it]\u001b[A\n",
            "  8%|▊         | 4/50 [00:50<09:43, 12.68s/it]\u001b[A\n",
            " 10%|█         | 5/50 [01:03<09:31, 12.70s/it]\u001b[A\n",
            " 12%|█▏        | 6/50 [01:16<09:19, 12.71s/it]\u001b[A\n",
            " 14%|█▍        | 7/50 [01:28<09:05, 12.69s/it]\u001b[A\n",
            " 16%|█▌        | 8/50 [01:41<08:51, 12.66s/it]\u001b[A\n",
            " 18%|█▊        | 9/50 [01:54<08:39, 12.68s/it]\u001b[A\n",
            " 20%|██        | 10/50 [02:06<08:27, 12.68s/it]\u001b[A\n",
            " 22%|██▏       | 11/50 [02:19<08:15, 12.69s/it]\u001b[A\n",
            " 24%|██▍       | 12/50 [02:32<08:02, 12.69s/it]\u001b[A\n",
            " 26%|██▌       | 13/50 [02:44<07:49, 12.68s/it]\u001b[A\n",
            " 28%|██▊       | 14/50 [02:57<07:36, 12.68s/it]\u001b[A\n",
            " 30%|███       | 15/50 [03:10<07:24, 12.69s/it]\u001b[A\n",
            " 32%|███▏      | 16/50 [03:22<07:11, 12.69s/it]\u001b[A\n",
            " 34%|███▍      | 17/50 [03:35<06:58, 12.68s/it]\u001b[A\n",
            " 36%|███▌      | 18/50 [03:48<06:44, 12.65s/it]\u001b[A\n",
            " 38%|███▊      | 19/50 [04:00<06:31, 12.63s/it]\u001b[A\n",
            " 40%|████      | 20/50 [04:13<06:18, 12.61s/it]\u001b[A\n",
            " 42%|████▏     | 21/50 [04:25<06:05, 12.59s/it]\u001b[A\n",
            " 44%|████▍     | 22/50 [04:38<05:52, 12.59s/it]\u001b[A\n",
            " 48%|████▊     | 24/50 [05:03<05:26, 12.56s/it]\u001b[A\n",
            " 50%|█████     | 25/50 [05:15<05:12, 12.52s/it]\u001b[A\n",
            " 52%|█████▏    | 26/50 [05:28<05:01, 12.55s/it]\u001b[A\n",
            " 54%|█████▍    | 27/50 [05:41<04:48, 12.53s/it]\u001b[A\n",
            " 56%|█████▌    | 28/50 [05:53<04:35, 12.52s/it]\u001b[A\n",
            " 58%|█████▊    | 29/50 [06:05<04:22, 12.49s/it]\u001b[A\n",
            " 60%|██████    | 30/50 [06:18<04:09, 12.49s/it]\u001b[A\n",
            " 62%|██████▏   | 31/50 [06:30<03:57, 12.50s/it]\u001b[A\n",
            " 64%|██████▍   | 32/50 [06:43<03:44, 12.47s/it]\u001b[A\n",
            " 66%|██████▌   | 33/50 [06:55<03:32, 12.48s/it]\u001b[A\n",
            " 68%|██████▊   | 34/50 [07:08<03:19, 12.48s/it]\u001b[A\n",
            " 70%|███████   | 35/50 [07:20<03:07, 12.48s/it]\u001b[A\n",
            " 72%|███████▏  | 36/50 [07:33<02:54, 12.46s/it]\u001b[A\n",
            " 74%|███████▍  | 37/50 [07:45<02:41, 12.42s/it]\u001b[A\n",
            " 76%|███████▌  | 38/50 [07:57<02:29, 12.44s/it]\u001b[A\n",
            " 78%|███████▊  | 39/50 [08:10<02:16, 12.42s/it]\u001b[A\n",
            " 80%|████████  | 40/50 [08:22<02:04, 12.44s/it]\u001b[A\n",
            " 82%|████████▏ | 41/50 [08:35<01:52, 12.46s/it]\u001b[A\n",
            " 84%|████████▍ | 42/50 [08:47<01:39, 12.39s/it]\u001b[A\n",
            " 86%|████████▌ | 43/50 [08:59<01:26, 12.39s/it]\u001b[A\n",
            " 88%|████████▊ | 44/50 [09:12<01:14, 12.39s/it]\u001b[A\n",
            " 90%|█████████ | 45/50 [09:24<01:01, 12.35s/it]\u001b[A\n",
            " 92%|█████████▏| 46/50 [09:37<00:49, 12.38s/it]\u001b[A\n",
            " 94%|█████████▍| 47/50 [09:49<00:37, 12.34s/it]\u001b[A\n",
            " 96%|█████████▌| 48/50 [10:01<00:24, 12.35s/it]\u001b[A\n",
            " 98%|█████████▊| 49/50 [10:14<00:12, 12.35s/it]\u001b[A\n",
            "100%|██████████| 50/50 [10:26<00:00, 12.53s/it]\n"
          ],
          "name": "stderr"
        }
      ]
    },
    {
      "cell_type": "code",
      "metadata": {
        "colab": {
          "base_uri": "https://localhost:8080/",
          "height": 285
        },
        "id": "73rsI-CJd8Oq",
        "outputId": "5af1029b-3691-4290-d482-c30fa97984f8"
      },
      "source": [
        "plt.plot(all_accuracy)"
      ],
      "execution_count": null,
      "outputs": [
        {
          "output_type": "execute_result",
          "data": {
            "text/plain": [
              "[<matplotlib.lines.Line2D at 0x7f82533e0860>]"
            ]
          },
          "metadata": {
            "tags": []
          },
          "execution_count": 25
        },
        {
          "output_type": "display_data",
          "data": {
            "image/png": "[encoded data removed]",
            "text/plain": [
              "<Figure size 432x288 with 1 Axes>"
            ]
          },
          "metadata": {
            "tags": [],
            "needs_background": "light"
          }
        }
      ]
    },
    {
      "cell_type": "code",
      "metadata": {
        "id": "SjHaJT4NxHzw",
        "colab": {
          "base_uri": "https://localhost:8080/"
        },
        "outputId": "0ed30d43-d509-4b80-d02d-76633d207476"
      },
      "source": [
        "all_accuracy"
      ],
      "execution_count": null,
      "outputs": [
        {
          "output_type": "execute_result",
          "data": {
            "text/plain": [
              "array([95.54, 95.95, 95.8 , 96.06, 95.83, 96.12, 95.98, 95.67, 95.82,\n",
              "       95.97, 95.81, 96.05, 96.06, 96.03, 96.  , 96.  , 96.12, 96.02,\n",
              "       96.01, 96.03, 95.9 , 95.71, 96.17, 96.09, 96.09, 96.06, 95.84,\n",
              "       95.72, 96.03, 96.07, 95.96, 96.09, 96.03, 95.9 , 96.08, 95.9 ,\n",
              "       96.09, 95.78, 95.86, 95.71, 95.9 , 95.51, 95.9 , 95.79, 95.89,\n",
              "       95.88, 95.98, 96.01, 96.1 , 96.14])"
            ]
          },
          "metadata": {
            "tags": []
          },
          "execution_count": 31
        }
      ]
    },
    {
      "cell_type": "code",
      "metadata": {
        "colab": {
          "base_uri": "https://localhost:8080/",
          "height": 283
        },
        "id": "Gxan9DzIeB8G",
        "outputId": "fb2d2c25-3fb5-45ce-e7a8-eca304f56006"
      },
      "source": [
        "plt.plot(all_loss)"
      ],
      "execution_count": null,
      "outputs": [
        {
          "output_type": "execute_result",
          "data": {
            "text/plain": [
              "[<matplotlib.lines.Line2D at 0x7f8254e7cda0>]"
            ]
          },
          "metadata": {
            "tags": []
          },
          "execution_count": 27
        },
        {
          "output_type": "display_data",
          "data": {
            "image/png": "[encoded data removed]",
            "text/plain": [
              "<Figure size 432x288 with 1 Axes>"
            ]
          },
          "metadata": {
            "tags": [],
            "needs_background": "light"
          }
        }
      ]
    },
    {
      "cell_type": "code",
      "metadata": {
        "colab": {
          "base_uri": "https://localhost:8080/"
        },
        "id": "8ZD3_g76iZKQ",
        "outputId": "568f0728-1aa1-4f48-fad0-172afb8e6c84"
      },
      "source": [
        "print_nonzeros(model)"
      ],
      "execution_count": null,
      "outputs": [
        {
          "output_type": "stream",
          "text": [
            "classifier.0.weight  | nonzeros =   14701 /  235200 (  6.25%) | total_pruned =  220499 | shape = (300, 784)\n",
            "classifier.0.bias    | nonzeros =     300 /     300 (100.00%) | total_pruned =       0 | shape = (300,)\n",
            "classifier.2.weight  | nonzeros =    1875 /   30000 (  6.25%) | total_pruned =   28125 | shape = (100, 300)\n",
            "classifier.2.bias    | nonzeros =     100 /     100 (100.00%) | total_pruned =       0 | shape = (100,)\n",
            "classifier.4.weight  | nonzeros =      63 /    1000 (  6.30%) | total_pruned =     937 | shape = (10, 100)\n",
            "classifier.4.bias    | nonzeros =      10 /      10 (100.00%) | total_pruned =       0 | shape = (10,)\n",
            "alive: 17049, pruned : 249561, total: 266610, Compression rate :      15.64x  ( 93.61% pruned)\n"
          ],
          "name": "stdout"
        },
        {
          "output_type": "execute_result",
          "data": {
            "text/plain": [
              "6.4"
            ]
          },
          "metadata": {
            "tags": []
          },
          "execution_count": 19
        }
      ]
    },
    {
      "cell_type": "code",
      "metadata": {
        "colab": {
          "base_uri": "https://localhost:8080/"
        },
        "id": "mXbHkO-GkXXm",
        "outputId": "027d0f77-60ea-4079-b33a-33c7ca2f7bca"
      },
      "source": [
        "print_nonzeros(model)"
      ],
      "execution_count": null,
      "outputs": [
        {
          "output_type": "stream",
          "text": [
            "classifier.0.weight  | nonzeros =   14701 /  235200 (  6.25%) | total_pruned =  220499 | shape = (300, 784)\n",
            "classifier.0.bias    | nonzeros =     300 /     300 (100.00%) | total_pruned =       0 | shape = (300,)\n",
            "classifier.2.weight  | nonzeros =    1875 /   30000 (  6.25%) | total_pruned =   28125 | shape = (100, 300)\n",
            "classifier.2.bias    | nonzeros =     100 /     100 (100.00%) | total_pruned =       0 | shape = (100,)\n",
            "classifier.4.weight  | nonzeros =      63 /    1000 (  6.30%) | total_pruned =     937 | shape = (10, 100)\n",
            "classifier.4.bias    | nonzeros =      10 /      10 (100.00%) | total_pruned =       0 | shape = (10,)\n",
            "alive: 17049, pruned : 249561, total: 266610, Compression rate :      15.64x  ( 93.61% pruned)\n"
          ],
          "name": "stdout"
        },
        {
          "output_type": "execute_result",
          "data": {
            "text/plain": [
              "6.4"
            ]
          },
          "metadata": {
            "tags": []
          },
          "execution_count": 24
        }
      ]
    },
    {
      "cell_type": "code",
      "metadata": {
        "colab": {
          "base_uri": "https://localhost:8080/",
          "height": 269
        },
        "id": "9joWU6-DzmrE",
        "outputId": "872d8632-d781-48e1-f06f-ecf2163af84d"
      },
      "source": [
        "plt.plot(Accuracies[-1])\n",
        "plt.plot(all_accuracy)\n",
        "plt.legend(['Train on ticket from set 2','Train on ticket from set 1'])\n",
        "plt.ylim((90,100))\n",
        "plt.show()"
      ],
      "execution_count": null,
      "outputs": [
        {
          "output_type": "display_data",
          "data": {
            "image/png": "[encoded data removed]",
            "text/plain": [
              "<Figure size 432x288 with 1 Axes>"
            ]
          },
          "metadata": {
            "tags": [],
            "needs_background": "light"
          }
        }
      ]
    },
    {
      "cell_type": "code",
      "metadata": {
        "colab": {
          "base_uri": "https://localhost:8080/",
          "height": 265
        },
        "id": "JMFj9u3O0bvu",
        "outputId": "96b8e5fc-6038-43fe-fdb1-7dbf9c76e473"
      },
      "source": [
        "plt.plot(Loss[-1])\n",
        "plt.plot(all_loss)\n",
        "plt.legend(['Train on ticket from set 2','Train on ticket from set 1'])\n",
        "# plt.ylim((0,10))\n",
        "plt.show()"
      ],
      "execution_count": null,
      "outputs": [
        {
          "output_type": "display_data",
          "data": {
            "image/png": "[encoded data removed]",
            "text/plain": [
              "<Figure size 432x288 with 1 Axes>"
            ]
          },
          "metadata": {
            "tags": [],
            "needs_background": "light"
          }
        }
      ]
    }
  ]
}